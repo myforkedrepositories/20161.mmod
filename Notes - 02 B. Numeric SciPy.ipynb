{
 "cells": [
  {
   "cell_type": "markdown",
   "metadata": {},
   "source": [
    "See [SciPy Tutorial Section 9.3](http://www.physics.nyu.edu/pine/pymanual/html/chap9/chap9_scipy.html)"
   ]
  },
  {
   "cell_type": "code",
   "execution_count": 1,
   "metadata": {
    "collapsed": false
   },
   "outputs": [],
   "source": [
    "from sympy import *\n",
    "import numpy as np\n",
    "import matplotlib.pyplot as plt\n",
    "from sklearn.linear_model import LinearRegression\n",
    "%matplotlib inline\n",
    "init_printing(use_latex=True)"
   ]
  },
  {
   "cell_type": "markdown",
   "metadata": {},
   "source": [
    "## Numerical Integration"
   ]
  },
  {
   "cell_type": "markdown",
   "metadata": {},
   "source": [
    "**Symbolically**"
   ]
  },
  {
   "cell_type": "code",
   "execution_count": 2,
   "metadata": {
    "collapsed": false
   },
   "outputs": [
    {
     "name": "stdout",
     "output_type": "stream",
     "text": [
      "Definite integral value 27.75\n"
     ]
    },
    {
     "data": {
      "image/png": "[encoded data removed]",
      "text/latex": [
       "$$\\int_{-1.5}^{1.5} - x^{2} + 10\\, dx$$"
      ],
      "text/plain": [
       "1.5                \n",
       " ⌠                 \n",
       " ⎮   ⎛   2     ⎞   \n",
       " ⎮   ⎝- x  + 10⎠ dx\n",
       " ⌡                 \n",
       "-1.5               "
      ]
     },
     "execution_count": 2,
     "metadata": {},
     "output_type": "execute_result"
    }
   ],
   "source": [
    "y,x = symbols(\"y x\")\n",
    "y = 10-x**2\n",
    "iy = integrate(y)\n",
    "fiy = lambdify(x,iy)\n",
    "print \"Definite integral value\", fiy(1.5)-fiy(-1.5)\n",
    "Integral(y, (x, -1.5, 1.5))"
   ]
  },
  {
   "cell_type": "markdown",
   "metadata": {},
   "source": [
    "**Numerically**"
   ]
  },
  {
   "cell_type": "code",
   "execution_count": 3,
   "metadata": {
    "collapsed": false
   },
   "outputs": [
    {
     "data": {
      "image/png": "[encoded data removed]",
      "text/latex": [
       "$$\\left ( 27.75, \\quad 3.08086889333e-13\\right )$$"
      ],
      "text/plain": [
       "(27.75, 3.08086889333e-13)"
      ]
     },
     "execution_count": 3,
     "metadata": {},
     "output_type": "execute_result"
    }
   ],
   "source": [
    "from scipy.integrate import quad\n",
    "quad(lambda x: 10-x**2, -1.5, 1.5)"
   ]
  },
  {
   "cell_type": "markdown",
   "metadata": {},
   "source": [
    "## Numerical ODEs\n",
    "\n",
    "** Symbolically**\n",
    "\n",
    "Initial condition $Y(0)=2$"
   ]
  },
  {
   "cell_type": "code",
   "execution_count": 4,
   "metadata": {
    "collapsed": false
   },
   "outputs": [
    {
     "data": {
      "text/plain": [
       "<matplotlib.text.Text at 0xa68576ec>"
      ]
     },
     "execution_count": 4,
     "metadata": {},
     "output_type": "execute_result"
    },
    {
     "data": {
      "image/png": "[encoded data removed]",
      "text/plain": [
       "<matplotlib.figure.Figure at 0xb637ffec>"
      ]
     },
     "metadata": {},
     "output_type": "display_data"
    }
   ],
   "source": [
    "x, t, k, C1,= symbols('x t k C1')\n",
    "Y = symbols('Y', cls=Function)\n",
    "dydt = Y(t)+t\n",
    "yt = dsolve(Eq(Y(t).diff(t) , dydt), Y(t))\n",
    "eq1 = Eq(yt.rhs.subs({ t:0}).evalf(), 2.)\n",
    "sol = solve([eq1], [C1])\n",
    "C1_val = sol[C1]\n",
    "yt_final = simplify(yt.rhs.subs({C1: C1_val}))\n",
    "fY = lambdify(t, yt_final, \"numpy\")\n",
    "t_vals = np.linspace(-50,5,100)\n",
    "plt.plot(t_vals, fY(t_vals))\n",
    "plt.text(-40,300, \"$\"+latex(yt_final)+\"$\", size=30)"
   ]
  },
  {
   "cell_type": "markdown",
   "metadata": {},
   "source": [
    "**Numerically**\n",
    "\n",
    "Initial condition $Y(0)=2$"
   ]
  },
  {
   "cell_type": "code",
   "execution_count": 6,
   "metadata": {
    "collapsed": false
   },
   "outputs": [
    {
     "data": {
      "text/plain": [
       "[<matplotlib.lines.Line2D at 0xa68694ac>]"
      ]
     },
     "execution_count": 6,
     "metadata": {},
     "output_type": "execute_result"
    },
    {
     "data": {
      "image/png": "[encoded data removed]",
      "text/plain": [
       "<matplotlib.figure.Figure at 0xa68694cc>"
      ]
     },
     "metadata": {},
     "output_type": "display_data"
    }
   ],
   "source": [
    "from scipy.integrate import odeint\n",
    "\n",
    "def f(y, t):\n",
    "    return [y[0]+t]\n",
    "\n",
    "y0=[2.]\n",
    "\n",
    "# From the initial value we need to plot forward ...\n",
    "t_interval = np.linspace(0, 5, 100)\n",
    "psoln = odeint(f, y0, t_interval)\n",
    "plt.plot(t_interval,psoln[:,0])\n",
    "\n",
    "# ... and backwards\n",
    "t_interval = np.arange(0,-50,-.1)\n",
    "psoln = odeint(f, y0, t_interval)\n",
    "plt.plot(t_interval,psoln[:,0])"
   ]
  },
  {
   "cell_type": "code",
   "execution_count": null,
   "metadata": {
    "collapsed": true
   },
   "outputs": [],
   "source": []
  }
 ],
 "metadata": {
  "kernelspec": {
   "display_name": "Python 2",
   "language": "python",
   "name": "python2"
  },
  "language_info": {
   "codemirror_mode": {
    "name": "ipython",
    "version": 2
   },
   "file_extension": ".py",
   "mimetype": "text/x-python",
   "name": "python",
   "nbconvert_exporter": "python",
   "pygments_lexer": "ipython2",
   "version": "2.7.11"
  },
  "toc": {
   "toc_cell": false,
   "toc_number_sections": true,
   "toc_section_display": "block",
   "toc_threshold": 6,
   "toc_window_display": false
  },
  "toc_position": {
   "height": "239px",
   "left": "1016.02px",
   "right": "20px",
   "top": "111px",
   "width": "306px"
  }
 },
 "nbformat": 4,
 "nbformat_minor": 0
}
