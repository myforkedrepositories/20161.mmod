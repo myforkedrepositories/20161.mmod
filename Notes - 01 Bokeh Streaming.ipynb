{
 "cells": [
  {
   "cell_type": "markdown",
   "metadata": {},
   "source": [
    "# Bokeh streaming example\n",
    "\n",
    "\n",
    "## 1. Load data to stream from dataset"
   ]
  },
  {
   "cell_type": "code",
   "execution_count": 46,
   "metadata": {
    "collapsed": false
   },
   "outputs": [
    {
     "name": "stdout",
     "output_type": "stream",
     "text": [
      "(3842, 7)\n"
     ]
    },
    {
     "data": {
      "text/html": [
       "<div>\n",
       "<table border=\"1\" class=\"dataframe\">\n",
       "  <thead>\n",
       "    <tr style=\"text-align: right;\">\n",
       "      <th></th>\n",
       "      <th>Date</th>\n",
       "      <th>Open</th>\n",
       "      <th>High</th>\n",
       "      <th>Low</th>\n",
       "      <th>Close</th>\n",
       "      <th>Volume</th>\n",
       "      <th>Adj Close</th>\n",
       "    </tr>\n",
       "  </thead>\n",
       "  <tbody>\n",
       "    <tr>\n",
       "      <th>0</th>\n",
       "      <td>2016-04-12</td>\n",
       "      <td>21.530001</td>\n",
       "      <td>22.240000</td>\n",
       "      <td>21.320000</td>\n",
       "      <td>22.049999</td>\n",
       "      <td>196800</td>\n",
       "      <td>22.049999</td>\n",
       "    </tr>\n",
       "    <tr>\n",
       "      <th>1</th>\n",
       "      <td>2016-04-11</td>\n",
       "      <td>21.629999</td>\n",
       "      <td>21.950001</td>\n",
       "      <td>21.469999</td>\n",
       "      <td>21.540001</td>\n",
       "      <td>122200</td>\n",
       "      <td>21.540001</td>\n",
       "    </tr>\n",
       "    <tr>\n",
       "      <th>2</th>\n",
       "      <td>2016-04-08</td>\n",
       "      <td>21.459999</td>\n",
       "      <td>21.600000</td>\n",
       "      <td>21.340000</td>\n",
       "      <td>21.530001</td>\n",
       "      <td>71400</td>\n",
       "      <td>21.530001</td>\n",
       "    </tr>\n",
       "    <tr>\n",
       "      <th>3</th>\n",
       "      <td>2016-04-07</td>\n",
       "      <td>21.450001</td>\n",
       "      <td>21.670000</td>\n",
       "      <td>21.250000</td>\n",
       "      <td>21.379999</td>\n",
       "      <td>54900</td>\n",
       "      <td>21.379999</td>\n",
       "    </tr>\n",
       "    <tr>\n",
       "      <th>4</th>\n",
       "      <td>2016-04-06</td>\n",
       "      <td>21.620001</td>\n",
       "      <td>21.709999</td>\n",
       "      <td>21.360001</td>\n",
       "      <td>21.600000</td>\n",
       "      <td>53500</td>\n",
       "      <td>21.600000</td>\n",
       "    </tr>\n",
       "  </tbody>\n",
       "</table>\n",
       "</div>"
      ],
      "text/plain": [
       "         Date       Open       High        Low      Close  Volume  Adj Close\n",
       "0  2016-04-12  21.530001  22.240000  21.320000  22.049999  196800  22.049999\n",
       "1  2016-04-11  21.629999  21.950001  21.469999  21.540001  122200  21.540001\n",
       "2  2016-04-08  21.459999  21.600000  21.340000  21.530001   71400  21.530001\n",
       "3  2016-04-07  21.450001  21.670000  21.250000  21.379999   54900  21.379999\n",
       "4  2016-04-06  21.620001  21.709999  21.360001  21.600000   53500  21.600000"
      ]
     },
     "execution_count": 46,
     "metadata": {},
     "output_type": "execute_result"
    }
   ],
   "source": [
    "import numpy as np\n",
    "from bokeh.client import push_session\n",
    "from bokeh.embed import autoload_server\n",
    "from bokeh.plotting import figure, curdoc\n",
    "import sys\n",
    "import pandas as pd\n",
    "\n",
    "\n",
    "def init_data():\n",
    "    global idx, stock_data\n",
    "    stock_data = pd.read_csv(\"data/stock-sample.data\")\n",
    "    idx=0\n",
    "\n",
    "def next_data():\n",
    "    global idx, stock_data    \n",
    "    x = idx\n",
    "    y = stock_data.iloc[idx][\"Close\"]\n",
    "    idx += 1 if idx<len(stock_data) else 0\n",
    "    return x,y \n",
    "\n",
    "init_data()\n",
    "print stock_data.shape\n",
    "stock_data.head()"
   ]
  },
  {
   "cell_type": "markdown",
   "metadata": {},
   "source": [
    "## 2. Run the web server\n",
    "\n",
    "remeber to map ports **5999** and **5006** if using the course virtual machine"
   ]
  },
  {
   "cell_type": "code",
   "execution_count": 47,
   "metadata": {
    "collapsed": false
   },
   "outputs": [
    {
     "name": "stdout",
     "output_type": "stream",
     "text": [
      "Starting job # 15 in a separate thread.\n"
     ]
    }
   ],
   "source": [
    "%%script bash --bg\n",
    "kill `ps -efa | grep SimpleHTTPServer | grep python | awk '{print $2}'`\n",
    "python -m SimpleHTTPServer 5999"
   ]
  },
  {
   "cell_type": "markdown",
   "metadata": {},
   "source": [
    "## 3. Run the Bokeh server"
   ]
  },
  {
   "cell_type": "code",
   "execution_count": 48,
   "metadata": {
    "collapsed": false
   },
   "outputs": [
    {
     "name": "stdout",
     "output_type": "stream",
     "text": [
      "Starting job # 16 in a separate thread.\n"
     ]
    }
   ],
   "source": [
    "%%script bash --bg\n",
    "kill `ps -efa | grep \"bokeh serve\" | grep python | awk '{print $2}'`\n",
    "bokeh serve --allow-websocket-origin=localhost:5999"
   ]
  },
  {
   "cell_type": "markdown",
   "metadata": {},
   "source": [
    "## 4. Publish streaming data to the server\n",
    "\n",
    "do **Kernel->Interrupt** to stop streaming data"
   ]
  },
  {
   "cell_type": "code",
   "execution_count": 50,
   "metadata": {
    "collapsed": false
   },
   "outputs": [
    {
     "name": "stdout",
     "output_type": "stream",
     "text": [
      "open the following URL\n",
      "http://localhost:5999/stock.html\n"
     ]
    }
   ],
   "source": [
    "cd = curdoc()\n",
    "cd.clear()\n",
    "\n",
    "init_data()\n",
    "\n",
    "x_list = []\n",
    "y_list = []\n",
    "for i in range(100):\n",
    "    d = next_data()\n",
    "    x_list.append(d[0])\n",
    "    y_list.append(d[1])\n",
    "\n",
    "p = figure(plot_width=600, plot_height=300, title=\"STOCK EXCHANGE TIME SERIES\")\n",
    "r = p.circle(x_list, y_list)\n",
    "p.y_range.start = 0\n",
    "p.y_range.end   = 30\n",
    "# open a session which will keep our local doc in sync with server\n",
    "session = push_session(curdoc())\n",
    "\n",
    "html = \"\"\"\n",
    "<html>\n",
    "  <head></head>\n",
    "  <body>\n",
    "  <h1>Time Series from STOCK EXCHANGE DATASET</h1> \n",
    "  This is a time series <b>MONITORING PANEL</b> with Bokeh streaming\n",
    "    %s\n",
    "    \n",
    "  Please contact <a href='mailto:someone@somewhere'>someone</a> for more information.\n",
    "  </body>\n",
    "</html>\n",
    "\"\"\" % autoload_server(p, session_id=session.id)\n",
    "\n",
    "with open(\"stock.html\", \"w+\") as f:\n",
    "    f.write(html)\n",
    "\n",
    "ds = r.data_source\n",
    "\n",
    "def update():\n",
    "    global x_list, y_list\n",
    "    nd = next_data()\n",
    "    x_list = x_list[1:] + [nd[0]]\n",
    "    y_list = y_list[1:] + [nd[1]]\n",
    "    ds.data.update(x = x_list, y = y_list)\n",
    "    \n",
    "cd.add_periodic_callback(update, 500)\n",
    "\n",
    "print \"open the following URL\\nhttp://localhost:5999/stock.html\"\n",
    "\n",
    "session.loop_until_closed() # run forever"
   ]
  },
  {
   "cell_type": "markdown",
   "metadata": {},
   "source": [
    "## 5. Stop all servers"
   ]
  },
  {
   "cell_type": "code",
   "execution_count": 44,
   "metadata": {
    "collapsed": false
   },
   "outputs": [],
   "source": [
    "!kill `ps -efa | grep SimpleHTTPServer | grep python | awk '{print $2}'`\n",
    "!kill `ps -efa | grep \"bokeh serve\" | grep python | awk '{print $2}'`"
   ]
  },
  {
   "cell_type": "code",
   "execution_count": null,
   "metadata": {
    "collapsed": true
   },
   "outputs": [],
   "source": []
  }
 ],
 "metadata": {
  "kernelspec": {
   "display_name": "Python 2",
   "language": "python",
   "name": "python2"
  },
  "language_info": {
   "codemirror_mode": {
    "name": "ipython",
    "version": 2
   },
   "file_extension": ".py",
   "mimetype": "text/x-python",
   "name": "python",
   "nbconvert_exporter": "python",
   "pygments_lexer": "ipython2",
   "version": "2.7.11"
  },
  "toc": {
   "toc_cell": false,
   "toc_number_sections": false,
   "toc_threshold": 6,
   "toc_window_display": false
  }
 },
 "nbformat": 4,
 "nbformat_minor": 0
}
