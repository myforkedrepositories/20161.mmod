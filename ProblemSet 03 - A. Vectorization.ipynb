{
 "cells": [
  {
   "cell_type": "markdown",
   "metadata": {},
   "source": [
    "Elije un fractar o la representación de un sistema complejo e impleméntalo de forma similar a las notas, de modo que:\n",
    "\n",
    "- Esté vectorizada (como el último ejemplo de las notas) y esté compilada\n",
    "- Su versión compilada sea notablemente más rápida que su versión interpretada\n",
    "\n",
    "Tendrás que incluir en este notebook:\n",
    "\n",
    "1. Una implementación NO vectorizada NI compilada\n",
    "2. Una implementación vectorizada y compilada\n",
    "3. Unas pocas ejecuciones de ejemplo (con plots de su salida)\n",
    "4. Una comparativa de tiempo de ejecución de ambas implementaciones"
   ]
  },
  {
   "cell_type": "code",
   "execution_count": null,
   "metadata": {
    "collapsed": true
   },
   "outputs": [],
   "source": []
  }
 ],
 "metadata": {
  "kernelspec": {
   "display_name": "Python 2",
   "language": "python",
   "name": "python2"
  },
  "language_info": {
   "codemirror_mode": {
    "name": "ipython",
    "version": 2
   },
   "file_extension": ".py",
   "mimetype": "text/x-python",
   "name": "python",
   "nbconvert_exporter": "python",
   "pygments_lexer": "ipython2",
   "version": "2.7.11"
  },
  "toc": {
   "toc_cell": false,
   "toc_number_sections": true,
   "toc_threshold": 6,
   "toc_window_display": false
  }
 },
 "nbformat": 4,
 "nbformat_minor": 0
}
