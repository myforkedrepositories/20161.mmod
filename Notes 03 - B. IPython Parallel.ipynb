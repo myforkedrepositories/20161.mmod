{
 "cells": [
  {
   "cell_type": "markdown",
   "metadata": {},
   "source": [
    "See tutorial [here](https://ipython.org/ipython-doc/dev/parallel/parallel_multiengine.html). If you want to install it see [here](https://github.com/ipython/ipyparallel).\n",
    "\n",
    "Make sure your `jupyter_notebook_config.json` loads the `ipyparallel.nbextension` to be able to start clusters from the **IPython Clusters** tab"
   ]
  },
  {
   "cell_type": "code",
   "execution_count": 46,
   "metadata": {
    "collapsed": false
   },
   "outputs": [
    {
     "name": "stdout",
     "output_type": "stream",
     "text": [
      "Overwriting /home/user/.jupyter/jupyter_notebook_config.json\n"
     ]
    }
   ],
   "source": [
    "%%writefile /home/user/.jupyter/jupyter_notebook_config.json\n",
    "{\n",
    "  \"NotebookApp\": {\n",
    "    \"extra_template_paths\": [\n",
    "      \"/home/user/.local/share/jupyter/templates\"\n",
    "    ],\n",
    "    \"server_extensions\": [\n",
    "      \"nbextensions\",\n",
    "      \"ipyparallel.nbextension\"\n",
    "    ]\n",
    "  },\n",
    "  \"version\": 1\n",
    "}"
   ]
  },
  {
   "cell_type": "markdown",
   "metadata": {},
   "source": [
    "## Start an IP Cluster from the notebooks main page\n",
    "\n",
    "observe that you can use the `%%px` magic to send tasks to execute in each on but they are separate kernels"
   ]
  },
  {
   "cell_type": "markdown",
   "metadata": {},
   "source": [
    "## Basics"
   ]
  },
  {
   "cell_type": "code",
   "execution_count": 9,
   "metadata": {
    "collapsed": false
   },
   "outputs": [
    {
     "name": "stdout",
     "output_type": "stream",
     "text": [
      "available engines [0, 1, 2, 3]\n"
     ]
    }
   ],
   "source": [
    "import ipyparallel as ipp\n",
    "import numpy as np\n",
    "rc = ipp.Client()\n",
    "dv = rc.direct_view()\n",
    "print \"available engines\", rc.ids"
   ]
  },
  {
   "cell_type": "code",
   "execution_count": 10,
   "metadata": {
    "collapsed": false
   },
   "outputs": [
    {
     "name": "stdout",
     "output_type": "stream",
     "text": [
      "this notebook kernel pid 95223\n"
     ]
    }
   ],
   "source": [
    "import os\n",
    "print \"this notebook kernel pid\", os.getpid()"
   ]
  },
  {
   "cell_type": "code",
   "execution_count": 11,
   "metadata": {
    "collapsed": false
   },
   "outputs": [
    {
     "ename": "CompositeError",
     "evalue": "one or more exceptions from call to method: execute\n[0:execute]: NameError: name 'os' is not defined\n[1:execute]: NameError: name 'os' is not defined\n[2:execute]: NameError: name 'os' is not defined\n[3:execute]: NameError: name 'os' is not defined",
     "output_type": "error",
     "traceback": [
      "[0:execute]: ",
      "\u001b[0;31m---------------------------------------------------------------------------\u001b[0m\u001b[0;31mNameError\u001b[0m                                 Traceback (most recent call last)\u001b[0;32m<ipython-input-1-a40f53ad994e>\u001b[0m in \u001b[0;36m<module>\u001b[0;34m()\u001b[0m",
      "\u001b[0;32m----> 1\u001b[0;31m \u001b[0;32mprint\u001b[0m \u001b[0;34m\"my pid\"\u001b[0m\u001b[0;34m,\u001b[0m \u001b[0mos\u001b[0m\u001b[0;34m.\u001b[0m\u001b[0mgetpid\u001b[0m\u001b[0;34m(\u001b[0m\u001b[0;34m)\u001b[0m\u001b[0;34m\u001b[0m\u001b[0m",
      "\u001b[0m\u001b[0;31mNameError\u001b[0m: name 'os' is not defined",
      "",
      "[1:execute]: ",
      "\u001b[0;31m---------------------------------------------------------------------------\u001b[0m\u001b[0;31mNameError\u001b[0m                                 Traceback (most recent call last)\u001b[0;32m<ipython-input-1-a40f53ad994e>\u001b[0m in \u001b[0;36m<module>\u001b[0;34m()\u001b[0m",
      "\u001b[0;32m----> 1\u001b[0;31m \u001b[0;32mprint\u001b[0m \u001b[0;34m\"my pid\"\u001b[0m\u001b[0;34m,\u001b[0m \u001b[0mos\u001b[0m\u001b[0;34m.\u001b[0m\u001b[0mgetpid\u001b[0m\u001b[0;34m(\u001b[0m\u001b[0;34m)\u001b[0m\u001b[0;34m\u001b[0m\u001b[0m",
      "\u001b[0m\u001b[0;31mNameError\u001b[0m: name 'os' is not defined",
      "",
      "[2:execute]: ",
      "\u001b[0;31m---------------------------------------------------------------------------\u001b[0m\u001b[0;31mNameError\u001b[0m                                 Traceback (most recent call last)\u001b[0;32m<ipython-input-1-a40f53ad994e>\u001b[0m in \u001b[0;36m<module>\u001b[0;34m()\u001b[0m",
      "\u001b[0;32m----> 1\u001b[0;31m \u001b[0;32mprint\u001b[0m \u001b[0;34m\"my pid\"\u001b[0m\u001b[0;34m,\u001b[0m \u001b[0mos\u001b[0m\u001b[0;34m.\u001b[0m\u001b[0mgetpid\u001b[0m\u001b[0;34m(\u001b[0m\u001b[0;34m)\u001b[0m\u001b[0;34m\u001b[0m\u001b[0m",
      "\u001b[0m\u001b[0;31mNameError\u001b[0m: name 'os' is not defined",
      "",
      "[3:execute]: ",
      "\u001b[0;31m---------------------------------------------------------------------------\u001b[0m\u001b[0;31mNameError\u001b[0m                                 Traceback (most recent call last)\u001b[0;32m<ipython-input-1-a40f53ad994e>\u001b[0m in \u001b[0;36m<module>\u001b[0;34m()\u001b[0m",
      "\u001b[0;32m----> 1\u001b[0;31m \u001b[0;32mprint\u001b[0m \u001b[0;34m\"my pid\"\u001b[0m\u001b[0;34m,\u001b[0m \u001b[0mos\u001b[0m\u001b[0;34m.\u001b[0m\u001b[0mgetpid\u001b[0m\u001b[0;34m(\u001b[0m\u001b[0;34m)\u001b[0m\u001b[0;34m\u001b[0m\u001b[0m",
      "\u001b[0m\u001b[0;31mNameError\u001b[0m: name 'os' is not defined",
      ""
     ]
    }
   ],
   "source": [
    "%%px\n",
    "print \"my pid\", os.getpid()"
   ]
  },
  {
   "cell_type": "code",
   "execution_count": 12,
   "metadata": {
    "collapsed": false
   },
   "outputs": [
    {
     "name": "stdout",
     "output_type": "stream",
     "text": [
      "[stdout:0]  my pid 95669\n",
      "[stdout:1]  my pid 95670\n",
      "[stdout:2]  my pid 95672\n",
      "[stdout:3]  my pid 95674\n"
     ]
    }
   ],
   "source": [
    "%%px\n",
    "import os\n",
    "print \"my pid\", os.getpid()"
   ]
  },
  {
   "cell_type": "code",
   "execution_count": 13,
   "metadata": {
    "collapsed": true
   },
   "outputs": [],
   "source": [
    "%px import numpy as np"
   ]
  },
  {
   "cell_type": "code",
   "execution_count": 14,
   "metadata": {
    "collapsed": false
   },
   "outputs": [
    {
     "data": {
      "text/plain": [
       "\u001b[0;31mOut[0:4]: \u001b[0m0.29635249096204574"
      ]
     },
     "metadata": {},
     "output_type": "display_data"
    },
    {
     "data": {
      "text/plain": [
       "\u001b[0;31mOut[1:4]: \u001b[0m0.6770112089408589"
      ]
     },
     "metadata": {},
     "output_type": "display_data"
    },
    {
     "data": {
      "text/plain": [
       "\u001b[0;31mOut[2:4]: \u001b[0m0.40379879994810375"
      ]
     },
     "metadata": {},
     "output_type": "display_data"
    },
    {
     "data": {
      "text/plain": [
       "\u001b[0;31mOut[3:4]: \u001b[0m0.6650611172167279"
      ]
     },
     "metadata": {},
     "output_type": "display_data"
    }
   ],
   "source": [
    "a = %px np.random.random()"
   ]
  },
  {
   "cell_type": "markdown",
   "metadata": {},
   "source": [
    "## Working with views"
   ]
  },
  {
   "cell_type": "code",
   "execution_count": 15,
   "metadata": {
    "collapsed": false
   },
   "outputs": [],
   "source": [
    "dv = rc.direct_view()"
   ]
  },
  {
   "cell_type": "code",
   "execution_count": 16,
   "metadata": {
    "collapsed": true
   },
   "outputs": [],
   "source": [
    "dv = rc.direct_view()\n",
    "dr = dv.apply(lambda: \"hello\")"
   ]
  },
  {
   "cell_type": "code",
   "execution_count": 17,
   "metadata": {
    "collapsed": false
   },
   "outputs": [
    {
     "data": {
      "text/plain": [
       "['hello', 'hello', 'hello', 'hello']"
      ]
     },
     "execution_count": 17,
     "metadata": {},
     "output_type": "execute_result"
    }
   ],
   "source": [
    "dr.get()"
   ]
  },
  {
   "cell_type": "code",
   "execution_count": 26,
   "metadata": {
    "collapsed": true
   },
   "outputs": [],
   "source": [
    "def f(x):\n",
    "    return \"hello \"+str(x)\n",
    "dr = dv.apply(f,\"magics\")"
   ]
  },
  {
   "cell_type": "code",
   "execution_count": 27,
   "metadata": {
    "collapsed": false
   },
   "outputs": [
    {
     "data": {
      "text/plain": [
       "['hello magics', 'hello magics', 'hello magics', 'hello magics']"
      ]
     },
     "execution_count": 27,
     "metadata": {},
     "output_type": "execute_result"
    }
   ],
   "source": [
    "dr.get()"
   ]
  },
  {
   "cell_type": "code",
   "execution_count": 28,
   "metadata": {
    "collapsed": false
   },
   "outputs": [
    {
     "data": {
      "text/plain": [
       "[{'after': [],\n",
       "  'completed': datetime.datetime(2016, 5, 23, 20, 19, 25, 760084),\n",
       "  'data': {},\n",
       "  'engine_id': 0,\n",
       "  'engine_uuid': u'520a8066-0f74-441c-8725-9753aa89ea7e',\n",
       "  'error': None,\n",
       "  'execute_input': None,\n",
       "  'execute_result': None,\n",
       "  'follow': [],\n",
       "  'msg_id': u'032413f6-595d-45d9-b431-097406efa391',\n",
       "  'outputs': [],\n",
       "  'received': datetime.datetime(2016, 5, 23, 20, 19, 25, 769991),\n",
       "  'started': datetime.datetime(2016, 5, 23, 20, 19, 25, 759128),\n",
       "  'status': u'ok',\n",
       "  'stderr': '',\n",
       "  'stdout': '',\n",
       "  'submitted': datetime.datetime(2016, 5, 23, 20, 19, 25, 753508)},\n",
       " {'after': [],\n",
       "  'completed': datetime.datetime(2016, 5, 23, 20, 19, 25, 764070),\n",
       "  'data': {},\n",
       "  'engine_id': 1,\n",
       "  'engine_uuid': u'17f55a12-5b19-4018-862c-46b2816d33d6',\n",
       "  'error': None,\n",
       "  'execute_input': None,\n",
       "  'execute_result': None,\n",
       "  'follow': [],\n",
       "  'msg_id': u'66f1b0ed-46e9-4067-a2f2-936ae8faa558',\n",
       "  'outputs': [],\n",
       "  'received': datetime.datetime(2016, 5, 23, 20, 19, 25, 771836),\n",
       "  'started': datetime.datetime(2016, 5, 23, 20, 19, 25, 762286),\n",
       "  'status': u'ok',\n",
       "  'stderr': '',\n",
       "  'stdout': '',\n",
       "  'submitted': datetime.datetime(2016, 5, 23, 20, 19, 25, 754064)},\n",
       " {'after': [],\n",
       "  'completed': datetime.datetime(2016, 5, 23, 20, 19, 25, 765878),\n",
       "  'data': {},\n",
       "  'engine_id': 2,\n",
       "  'engine_uuid': u'8564bd1c-8a7a-4dda-b48f-f266fe4bb0da',\n",
       "  'error': None,\n",
       "  'execute_input': None,\n",
       "  'execute_result': None,\n",
       "  'follow': [],\n",
       "  'msg_id': u'b658fc41-1abe-4fce-96b3-8821b969a713',\n",
       "  'outputs': [],\n",
       "  'received': datetime.datetime(2016, 5, 23, 20, 19, 25, 795288),\n",
       "  'started': datetime.datetime(2016, 5, 23, 20, 19, 25, 765002),\n",
       "  'status': u'ok',\n",
       "  'stderr': '',\n",
       "  'stdout': '',\n",
       "  'submitted': datetime.datetime(2016, 5, 23, 20, 19, 25, 754524)},\n",
       " {'after': [],\n",
       "  'completed': datetime.datetime(2016, 5, 23, 20, 19, 25, 770231),\n",
       "  'data': {},\n",
       "  'engine_id': 3,\n",
       "  'engine_uuid': u'b5093b26-c378-4ecd-a33a-cf5a44dde494',\n",
       "  'error': None,\n",
       "  'execute_input': None,\n",
       "  'execute_result': None,\n",
       "  'follow': [],\n",
       "  'msg_id': u'e7ef448c-95e6-41e9-a8b2-8504d2433b1f',\n",
       "  'outputs': [],\n",
       "  'received': datetime.datetime(2016, 5, 23, 20, 19, 25, 797891),\n",
       "  'started': datetime.datetime(2016, 5, 23, 20, 19, 25, 769378),\n",
       "  'status': u'ok',\n",
       "  'stderr': '',\n",
       "  'stdout': '',\n",
       "  'submitted': datetime.datetime(2016, 5, 23, 20, 19, 25, 754910)}]"
      ]
     },
     "execution_count": 28,
     "metadata": {},
     "output_type": "execute_result"
    }
   ],
   "source": [
    "dr.metadata"
   ]
  },
  {
   "cell_type": "markdown",
   "metadata": {},
   "source": [
    "Con `map` mapeamos todos hacemos una operación sobre todos los elementos de una lista en paralelo"
   ]
  },
  {
   "cell_type": "code",
   "execution_count": 29,
   "metadata": {
    "collapsed": true
   },
   "outputs": [],
   "source": [
    "dr = dv.map_sync(f, range(10))"
   ]
  },
  {
   "cell_type": "code",
   "execution_count": 30,
   "metadata": {
    "collapsed": false
   },
   "outputs": [
    {
     "data": {
      "text/plain": [
       "['hello 0',\n",
       " 'hello 1',\n",
       " 'hello 2',\n",
       " 'hello 3',\n",
       " 'hello 4',\n",
       " 'hello 5',\n",
       " 'hello 6',\n",
       " 'hello 7',\n",
       " 'hello 8',\n",
       " 'hello 9']"
      ]
     },
     "execution_count": 30,
     "metadata": {},
     "output_type": "execute_result"
    }
   ],
   "source": [
    "dr"
   ]
  },
  {
   "cell_type": "code",
   "execution_count": 31,
   "metadata": {
    "collapsed": true
   },
   "outputs": [],
   "source": [
    "dr = dv.map_sync(lambda x: x**2, range(10))"
   ]
  },
  {
   "cell_type": "code",
   "execution_count": 32,
   "metadata": {
    "collapsed": false
   },
   "outputs": [
    {
     "data": {
      "text/plain": [
       "[0, 1, 4, 9, 16, 25, 36, 49, 64, 81]"
      ]
     },
     "execution_count": 32,
     "metadata": {},
     "output_type": "execute_result"
    }
   ],
   "source": [
    "dr"
   ]
  },
  {
   "cell_type": "markdown",
   "metadata": {},
   "source": [
    "accedemos y definimos variables en cada engine"
   ]
  },
  {
   "cell_type": "code",
   "execution_count": 33,
   "metadata": {
    "collapsed": false
   },
   "outputs": [
    {
     "ename": "CompositeError",
     "evalue": "one or more exceptions from call to method: _pull\n[Engine Exception]NameError: name 'a' is not defined\n[Engine Exception]NameError: name 'a' is not defined\n[Engine Exception]NameError: name 'a' is not defined\n[Engine Exception]NameError: name 'a' is not defined",
     "output_type": "error",
     "traceback": [
      "[Engine Exception]",
      "\u001b[0;31m---------------------------------------------------------------------------\u001b[0m\u001b[0;31mNameError\u001b[0m                                 Traceback (most recent call last)\u001b[0;32m<string>\u001b[0m in \u001b[0;36m<module>\u001b[0;34m()\u001b[0m",
      "\u001b[0;32m/opt/anaconda/lib/python2.7/site-packages/ipyparallel/util.py\u001b[0m in \u001b[0;36m_pull\u001b[0;34m(keys)\u001b[0m",
      "\u001b[1;32m    263\u001b[0m         \u001b[0;32mreturn\u001b[0m \u001b[0;34m[\u001b[0m\u001b[0meval\u001b[0m\u001b[0;34m(\u001b[0m\u001b[0mkey\u001b[0m\u001b[0;34m,\u001b[0m \u001b[0mglobals\u001b[0m\u001b[0;34m(\u001b[0m\u001b[0;34m)\u001b[0m\u001b[0;34m)\u001b[0m \u001b[0;32mfor\u001b[0m \u001b[0mkey\u001b[0m \u001b[0;32min\u001b[0m \u001b[0mkeys\u001b[0m\u001b[0;34m]\u001b[0m\u001b[0;34m\u001b[0m\u001b[0m",
      "\u001b[1;32m    264\u001b[0m     \u001b[0;32melse\u001b[0m\u001b[0;34m:\u001b[0m\u001b[0;34m\u001b[0m\u001b[0m",
      "\u001b[0;32m--> 265\u001b[0;31m         \u001b[0;32mreturn\u001b[0m \u001b[0meval\u001b[0m\u001b[0;34m(\u001b[0m\u001b[0mkeys\u001b[0m\u001b[0;34m,\u001b[0m \u001b[0mglobals\u001b[0m\u001b[0;34m(\u001b[0m\u001b[0;34m)\u001b[0m\u001b[0;34m)\u001b[0m\u001b[0;34m\u001b[0m\u001b[0m",
      "\u001b[0m\u001b[1;32m    266\u001b[0m \u001b[0;34m\u001b[0m\u001b[0m",
      "\u001b[1;32m    267\u001b[0m \u001b[0;34m@\u001b[0m\u001b[0minteractive\u001b[0m\u001b[0;34m\u001b[0m\u001b[0m",
      "\u001b[0;32m<string>\u001b[0m in \u001b[0;36m<module>\u001b[0;34m()\u001b[0m",
      "\u001b[0;31mNameError\u001b[0m: name 'a' is not defined",
      "",
      "[Engine Exception]",
      "\u001b[0;31m---------------------------------------------------------------------------\u001b[0m\u001b[0;31mNameError\u001b[0m                                 Traceback (most recent call last)\u001b[0;32m<string>\u001b[0m in \u001b[0;36m<module>\u001b[0;34m()\u001b[0m",
      "\u001b[0;32m/opt/anaconda/lib/python2.7/site-packages/ipyparallel/util.py\u001b[0m in \u001b[0;36m_pull\u001b[0;34m(keys)\u001b[0m",
      "\u001b[1;32m    263\u001b[0m         \u001b[0;32mreturn\u001b[0m \u001b[0;34m[\u001b[0m\u001b[0meval\u001b[0m\u001b[0;34m(\u001b[0m\u001b[0mkey\u001b[0m\u001b[0;34m,\u001b[0m \u001b[0mglobals\u001b[0m\u001b[0;34m(\u001b[0m\u001b[0;34m)\u001b[0m\u001b[0;34m)\u001b[0m \u001b[0;32mfor\u001b[0m \u001b[0mkey\u001b[0m \u001b[0;32min\u001b[0m \u001b[0mkeys\u001b[0m\u001b[0;34m]\u001b[0m\u001b[0;34m\u001b[0m\u001b[0m",
      "\u001b[1;32m    264\u001b[0m     \u001b[0;32melse\u001b[0m\u001b[0;34m:\u001b[0m\u001b[0;34m\u001b[0m\u001b[0m",
      "\u001b[0;32m--> 265\u001b[0;31m         \u001b[0;32mreturn\u001b[0m \u001b[0meval\u001b[0m\u001b[0;34m(\u001b[0m\u001b[0mkeys\u001b[0m\u001b[0;34m,\u001b[0m \u001b[0mglobals\u001b[0m\u001b[0;34m(\u001b[0m\u001b[0;34m)\u001b[0m\u001b[0;34m)\u001b[0m\u001b[0;34m\u001b[0m\u001b[0m",
      "\u001b[0m\u001b[1;32m    266\u001b[0m \u001b[0;34m\u001b[0m\u001b[0m",
      "\u001b[1;32m    267\u001b[0m \u001b[0;34m@\u001b[0m\u001b[0minteractive\u001b[0m\u001b[0;34m\u001b[0m\u001b[0m",
      "\u001b[0;32m<string>\u001b[0m in \u001b[0;36m<module>\u001b[0;34m()\u001b[0m",
      "\u001b[0;31mNameError\u001b[0m: name 'a' is not defined",
      "",
      "[Engine Exception]",
      "\u001b[0;31m---------------------------------------------------------------------------\u001b[0m\u001b[0;31mNameError\u001b[0m                                 Traceback (most recent call last)\u001b[0;32m<string>\u001b[0m in \u001b[0;36m<module>\u001b[0;34m()\u001b[0m",
      "\u001b[0;32m/opt/anaconda/lib/python2.7/site-packages/ipyparallel/util.py\u001b[0m in \u001b[0;36m_pull\u001b[0;34m(keys)\u001b[0m",
      "\u001b[1;32m    263\u001b[0m         \u001b[0;32mreturn\u001b[0m \u001b[0;34m[\u001b[0m\u001b[0meval\u001b[0m\u001b[0;34m(\u001b[0m\u001b[0mkey\u001b[0m\u001b[0;34m,\u001b[0m \u001b[0mglobals\u001b[0m\u001b[0;34m(\u001b[0m\u001b[0;34m)\u001b[0m\u001b[0;34m)\u001b[0m \u001b[0;32mfor\u001b[0m \u001b[0mkey\u001b[0m \u001b[0;32min\u001b[0m \u001b[0mkeys\u001b[0m\u001b[0;34m]\u001b[0m\u001b[0;34m\u001b[0m\u001b[0m",
      "\u001b[1;32m    264\u001b[0m     \u001b[0;32melse\u001b[0m\u001b[0;34m:\u001b[0m\u001b[0;34m\u001b[0m\u001b[0m",
      "\u001b[0;32m--> 265\u001b[0;31m         \u001b[0;32mreturn\u001b[0m \u001b[0meval\u001b[0m\u001b[0;34m(\u001b[0m\u001b[0mkeys\u001b[0m\u001b[0;34m,\u001b[0m \u001b[0mglobals\u001b[0m\u001b[0;34m(\u001b[0m\u001b[0;34m)\u001b[0m\u001b[0;34m)\u001b[0m\u001b[0;34m\u001b[0m\u001b[0m",
      "\u001b[0m\u001b[1;32m    266\u001b[0m \u001b[0;34m\u001b[0m\u001b[0m",
      "\u001b[1;32m    267\u001b[0m \u001b[0;34m@\u001b[0m\u001b[0minteractive\u001b[0m\u001b[0;34m\u001b[0m\u001b[0m",
      "\u001b[0;32m<string>\u001b[0m in \u001b[0;36m<module>\u001b[0;34m()\u001b[0m",
      "\u001b[0;31mNameError\u001b[0m: name 'a' is not defined",
      "",
      "[Engine Exception]",
      "\u001b[0;31m---------------------------------------------------------------------------\u001b[0m\u001b[0;31mNameError\u001b[0m                                 Traceback (most recent call last)\u001b[0;32m<string>\u001b[0m in \u001b[0;36m<module>\u001b[0;34m()\u001b[0m",
      "\u001b[0;32m/opt/anaconda/lib/python2.7/site-packages/ipyparallel/util.py\u001b[0m in \u001b[0;36m_pull\u001b[0;34m(keys)\u001b[0m",
      "\u001b[1;32m    263\u001b[0m         \u001b[0;32mreturn\u001b[0m \u001b[0;34m[\u001b[0m\u001b[0meval\u001b[0m\u001b[0;34m(\u001b[0m\u001b[0mkey\u001b[0m\u001b[0;34m,\u001b[0m \u001b[0mglobals\u001b[0m\u001b[0;34m(\u001b[0m\u001b[0;34m)\u001b[0m\u001b[0;34m)\u001b[0m \u001b[0;32mfor\u001b[0m \u001b[0mkey\u001b[0m \u001b[0;32min\u001b[0m \u001b[0mkeys\u001b[0m\u001b[0;34m]\u001b[0m\u001b[0;34m\u001b[0m\u001b[0m",
      "\u001b[1;32m    264\u001b[0m     \u001b[0;32melse\u001b[0m\u001b[0;34m:\u001b[0m\u001b[0;34m\u001b[0m\u001b[0m",
      "\u001b[0;32m--> 265\u001b[0;31m         \u001b[0;32mreturn\u001b[0m \u001b[0meval\u001b[0m\u001b[0;34m(\u001b[0m\u001b[0mkeys\u001b[0m\u001b[0;34m,\u001b[0m \u001b[0mglobals\u001b[0m\u001b[0;34m(\u001b[0m\u001b[0;34m)\u001b[0m\u001b[0;34m)\u001b[0m\u001b[0;34m\u001b[0m\u001b[0m",
      "\u001b[0m\u001b[1;32m    266\u001b[0m \u001b[0;34m\u001b[0m\u001b[0m",
      "\u001b[1;32m    267\u001b[0m \u001b[0;34m@\u001b[0m\u001b[0minteractive\u001b[0m\u001b[0;34m\u001b[0m\u001b[0m",
      "\u001b[0;32m<string>\u001b[0m in \u001b[0;36m<module>\u001b[0;34m()\u001b[0m",
      "\u001b[0;31mNameError\u001b[0m: name 'a' is not defined",
      ""
     ]
    }
   ],
   "source": [
    "dv.clear()\n",
    "dv[\"a\"]"
   ]
  },
  {
   "cell_type": "code",
   "execution_count": 34,
   "metadata": {
    "collapsed": false
   },
   "outputs": [
    {
     "data": {
      "text/plain": [
       "<AsyncResult: _push>"
      ]
     },
     "execution_count": 34,
     "metadata": {},
     "output_type": "execute_result"
    }
   ],
   "source": [
    "a = np.array([1,2,3,4])\n",
    "dv.push({\"a\": a+1})"
   ]
  },
  {
   "cell_type": "code",
   "execution_count": 35,
   "metadata": {
    "collapsed": false
   },
   "outputs": [
    {
     "data": {
      "text/plain": [
       "[array([2, 3, 4, 5]),\n",
       " array([2, 3, 4, 5]),\n",
       " array([2, 3, 4, 5]),\n",
       " array([2, 3, 4, 5])]"
      ]
     },
     "execution_count": 35,
     "metadata": {},
     "output_type": "execute_result"
    }
   ],
   "source": [
    "dv[\"a\"]"
   ]
  },
  {
   "cell_type": "markdown",
   "metadata": {},
   "source": [
    "Distribuimos y recogemos datos y exploramos el espacio de nombres de cada engine"
   ]
  },
  {
   "cell_type": "code",
   "execution_count": 36,
   "metadata": {
    "collapsed": false
   },
   "outputs": [
    {
     "name": "stdout",
     "output_type": "stream",
     "text": [
      "[3 3 0 5 9 4 1 0 6 4 5 5 4 3 4 3]\n"
     ]
    }
   ],
   "source": [
    "import numpy as np\n",
    "data = np.random.randint(10, size=16)\n",
    "print data\n",
    "dv.scatter('a',data);"
   ]
  },
  {
   "cell_type": "code",
   "execution_count": 37,
   "metadata": {
    "collapsed": false
   },
   "outputs": [
    {
     "data": {
      "text/plain": [
       "[array([3, 3, 0, 5]),\n",
       " array([9, 4, 1, 0]),\n",
       " array([6, 4, 5, 5]),\n",
       " array([4, 3, 4, 3])]"
      ]
     },
     "execution_count": 37,
     "metadata": {},
     "output_type": "execute_result"
    }
   ],
   "source": [
    "dv['a']"
   ]
  },
  {
   "cell_type": "code",
   "execution_count": 38,
   "metadata": {
    "collapsed": false
   },
   "outputs": [
    {
     "data": {
      "text/plain": [
       "[array([4, 4, 1, 6]),\n",
       " array([10,  5,  2,  1]),\n",
       " array([7, 5, 6, 6]),\n",
       " array([5, 4, 5, 4])]"
      ]
     },
     "execution_count": 38,
     "metadata": {},
     "output_type": "execute_result"
    }
   ],
   "source": [
    "dv.apply (lambda: a+1).get()"
   ]
  },
  {
   "cell_type": "code",
   "execution_count": 39,
   "metadata": {
    "collapsed": true
   },
   "outputs": [],
   "source": [
    "dv.execute(\"import numpy as np\")    \n",
    "def create_b():\n",
    "    global b\n",
    "    b = np.copy(a)+1"
   ]
  },
  {
   "cell_type": "code",
   "execution_count": 40,
   "metadata": {
    "collapsed": false
   },
   "outputs": [
    {
     "data": {
      "text/plain": [
       "<AsyncResult: create_b>"
      ]
     },
     "execution_count": 40,
     "metadata": {},
     "output_type": "execute_result"
    }
   ],
   "source": [
    "dv.apply(create_b)"
   ]
  },
  {
   "cell_type": "code",
   "execution_count": 41,
   "metadata": {
    "collapsed": false
   },
   "outputs": [
    {
     "data": {
      "text/plain": [
       "[array([4, 4, 1, 6]),\n",
       " array([10,  5,  2,  1]),\n",
       " array([7, 5, 6, 6]),\n",
       " array([5, 4, 5, 4])]"
      ]
     },
     "execution_count": 41,
     "metadata": {},
     "output_type": "execute_result"
    }
   ],
   "source": [
    "dv['b']"
   ]
  },
  {
   "cell_type": "code",
   "execution_count": 42,
   "metadata": {
    "collapsed": false
   },
   "outputs": [
    {
     "data": {
      "text/plain": [
       "array([ 4,  4,  1,  6, 10,  5,  2,  1,  7,  5,  6,  6,  5,  4,  5,  4])"
      ]
     },
     "execution_count": 42,
     "metadata": {},
     "output_type": "execute_result"
    }
   ],
   "source": [
    "dv.gather(\"b\").get()"
   ]
  },
  {
   "cell_type": "markdown",
   "metadata": {},
   "source": [
    "Fíjate cómo un array se distribuye por filas. Si lo quieres distribuir por columnas tendrías que usar la transpuesta"
   ]
  },
  {
   "cell_type": "code",
   "execution_count": 43,
   "metadata": {
    "collapsed": false
   },
   "outputs": [
    {
     "name": "stdout",
     "output_type": "stream",
     "text": [
      "[[9 3 7 5 7]\n",
      " [8 3 1 8 0]\n",
      " [6 3 9 6 0]\n",
      " [8 6 3 3 2]\n",
      " [9 4 6 8 6]\n",
      " [9 9 7 8 0]\n",
      " [4 8 3 1 5]\n",
      " [4 2 6 5 0]\n",
      " [2 1 1 6 2]\n",
      " [8 6 6 2 0]]\n",
      "[array([[9, 3, 7, 5, 7],\n",
      "       [8, 3, 1, 8, 0],\n",
      "       [6, 3, 9, 6, 0]]), array([[8, 6, 3, 3, 2],\n",
      "       [9, 4, 6, 8, 6],\n",
      "       [9, 9, 7, 8, 0]]), array([[4, 8, 3, 1, 5],\n",
      "       [4, 2, 6, 5, 0]]), array([[2, 1, 1, 6, 2],\n",
      "       [8, 6, 6, 2, 0]])]\n"
     ]
    }
   ],
   "source": [
    "data = np.random.randint(10, size=(10,5))\n",
    "print data\n",
    "dv.scatter('a',data);\n",
    "print dv['a']"
   ]
  },
  {
   "cell_type": "markdown",
   "metadata": {},
   "source": [
    "Observa que las estructuras compartidas son de solo lectura"
   ]
  },
  {
   "cell_type": "code",
   "execution_count": 44,
   "metadata": {
    "collapsed": true
   },
   "outputs": [],
   "source": [
    "def incr_a():\n",
    "    global a\n",
    "    a += 1"
   ]
  },
  {
   "cell_type": "code",
   "execution_count": 45,
   "metadata": {
    "collapsed": false
   },
   "outputs": [
    {
     "ename": "CompositeError",
     "evalue": "one or more exceptions from call to method: incr_a\n[Engine Exception]ValueError: output array is read-only\n[Engine Exception]ValueError: output array is read-only\n[Engine Exception]ValueError: output array is read-only\n[Engine Exception]ValueError: output array is read-only",
     "output_type": "error",
     "traceback": [
      "[Engine Exception]",
      "\u001b[0;31m---------------------------------------------------------------------------\u001b[0m\u001b[0;31mValueError\u001b[0m                                Traceback (most recent call last)\u001b[0;32m<string>\u001b[0m in \u001b[0;36m<module>\u001b[0;34m()\u001b[0m",
      "\u001b[0;32m<ipython-input-44-a6128dbb5d85>\u001b[0m in \u001b[0;36mincr_a\u001b[0;34m()\u001b[0m",
      "\u001b[0;31mValueError\u001b[0m: output array is read-only",
      "",
      "[Engine Exception]",
      "\u001b[0;31m---------------------------------------------------------------------------\u001b[0m\u001b[0;31mValueError\u001b[0m                                Traceback (most recent call last)\u001b[0;32m<string>\u001b[0m in \u001b[0;36m<module>\u001b[0;34m()\u001b[0m",
      "\u001b[0;32m<ipython-input-44-a6128dbb5d85>\u001b[0m in \u001b[0;36mincr_a\u001b[0;34m()\u001b[0m",
      "\u001b[0;31mValueError\u001b[0m: output array is read-only",
      "",
      "[Engine Exception]",
      "\u001b[0;31m---------------------------------------------------------------------------\u001b[0m\u001b[0;31mValueError\u001b[0m                                Traceback (most recent call last)\u001b[0;32m<string>\u001b[0m in \u001b[0;36m<module>\u001b[0;34m()\u001b[0m",
      "\u001b[0;32m<ipython-input-44-a6128dbb5d85>\u001b[0m in \u001b[0;36mincr_a\u001b[0;34m()\u001b[0m",
      "\u001b[0;31mValueError\u001b[0m: output array is read-only",
      "",
      "[Engine Exception]",
      "\u001b[0;31m---------------------------------------------------------------------------\u001b[0m\u001b[0;31mValueError\u001b[0m                                Traceback (most recent call last)\u001b[0;32m<string>\u001b[0m in \u001b[0;36m<module>\u001b[0;34m()\u001b[0m",
      "\u001b[0;32m<ipython-input-44-a6128dbb5d85>\u001b[0m in \u001b[0;36mincr_a\u001b[0;34m()\u001b[0m",
      "\u001b[0;31mValueError\u001b[0m: output array is read-only",
      ""
     ]
    }
   ],
   "source": [
    "dv.apply(incr_a).get()"
   ]
  },
  {
   "cell_type": "markdown",
   "metadata": {},
   "source": [
    "Mide la escalabilidad, comparando la ejecución local con la distribuida"
   ]
  },
  {
   "cell_type": "code",
   "execution_count": 47,
   "metadata": {
    "collapsed": true
   },
   "outputs": [],
   "source": [
    "def gen_data(its):\n",
    "    r = 0\n",
    "    for i in xrange(int(its)):\n",
    "        r += 1\n",
    "    return r"
   ]
  },
  {
   "cell_type": "code",
   "execution_count": 50,
   "metadata": {
    "collapsed": false
   },
   "outputs": [
    {
     "name": "stdout",
     "output_type": "stream",
     "text": [
      "CPU times: user 6.48 s, sys: 98.6 ms, total: 6.58 s\n",
      "Wall time: 6.83 s\n"
     ]
    },
    {
     "data": {
      "text/plain": [
       "100000000"
      ]
     },
     "execution_count": 50,
     "metadata": {},
     "output_type": "execute_result"
    }
   ],
   "source": [
    "%time gen_data(1e8)"
   ]
  },
  {
   "cell_type": "code",
   "execution_count": 51,
   "metadata": {
    "collapsed": false
   },
   "outputs": [
    {
     "name": "stdout",
     "output_type": "stream",
     "text": [
      "CPU times: user 35.4 ms, sys: 79.4 ms, total: 115 ms\n",
      "Wall time: 12.8 s\n"
     ]
    },
    {
     "data": {
      "text/plain": [
       "[100000000, 100000000, 100000000, 100000000]"
      ]
     },
     "execution_count": 51,
     "metadata": {},
     "output_type": "execute_result"
    }
   ],
   "source": [
    "%time dv.apply(gen_data, 1e8).get()"
   ]
  },
  {
   "cell_type": "markdown",
   "metadata": {},
   "source": [
    "## Parallel magics"
   ]
  },
  {
   "cell_type": "code",
   "execution_count": 52,
   "metadata": {
    "collapsed": false
   },
   "outputs": [
    {
     "name": "stdout",
     "output_type": "stream",
     "text": [
      "[stdout:0] hola\n",
      "[stdout:1] hola\n",
      "[stdout:2] hola\n",
      "[stdout:3] hola\n"
     ]
    }
   ],
   "source": [
    "%px print \"hola\""
   ]
  },
  {
   "cell_type": "code",
   "execution_count": 53,
   "metadata": {
    "collapsed": true
   },
   "outputs": [],
   "source": [
    "%px import numpy as np"
   ]
  },
  {
   "cell_type": "code",
   "execution_count": 54,
   "metadata": {
    "collapsed": true
   },
   "outputs": [],
   "source": [
    "%px r = np.random.randint(10)"
   ]
  },
  {
   "cell_type": "code",
   "execution_count": 55,
   "metadata": {
    "collapsed": false
   },
   "outputs": [
    {
     "data": {
      "text/plain": [
       "[6, 9, 5, 7]"
      ]
     },
     "execution_count": 55,
     "metadata": {},
     "output_type": "execute_result"
    }
   ],
   "source": [
    "dv.gather(\"r\").get()"
   ]
  },
  {
   "cell_type": "markdown",
   "metadata": {},
   "source": [
    "ejecuta un código en cada engine. Observa cómo recoge el stdout y la salida final. **ESTO ES ÚTIL PARA DEBUGGING**"
   ]
  },
  {
   "cell_type": "code",
   "execution_count": 56,
   "metadata": {
    "collapsed": false
   },
   "outputs": [
    {
     "name": "stdout",
     "output_type": "stream",
     "text": [
      "[stdout:0] calling with arg 10\n",
      "[stdout:1] calling with arg 10\n",
      "[stdout:2] calling with arg 10\n",
      "[stdout:3] calling with arg 10\n"
     ]
    },
    {
     "data": {
      "text/plain": [
       "\u001b[0;31mOut[0:8]: \u001b[0marray([1, 8, 4, 3, 4, 8, 1, 9, 5, 5])"
      ]
     },
     "metadata": {},
     "output_type": "display_data"
    },
    {
     "data": {
      "text/plain": [
       "\u001b[0;31mOut[1:8]: \u001b[0marray([9, 8, 8, 3, 3, 2, 6, 5, 2, 4])"
      ]
     },
     "metadata": {},
     "output_type": "display_data"
    },
    {
     "data": {
      "text/plain": [
       "\u001b[0;31mOut[2:8]: \u001b[0marray([0, 7, 6, 2, 7, 7, 5, 7, 8, 8])"
      ]
     },
     "metadata": {},
     "output_type": "display_data"
    },
    {
     "data": {
      "text/plain": [
       "\u001b[0;31mOut[3:8]: \u001b[0marray([5, 1, 1, 8, 6, 3, 8, 9, 0, 1])"
      ]
     },
     "metadata": {},
     "output_type": "display_data"
    }
   ],
   "source": [
    "%%px\n",
    "def get_rnd_vector(l):\n",
    "    print \"calling with arg\",l\n",
    "    return np.random.randint(10, size=l)\n",
    "get_rnd_vector(10)"
   ]
  },
  {
   "cell_type": "code",
   "execution_count": 57,
   "metadata": {
    "collapsed": false
   },
   "outputs": [
    {
     "data": {
      "text/plain": [
       "[array([8, 5]), array([3, 4, 4]), array([8, 3, 2, 5]), array([1, 6, 9, 7, 4])]"
      ]
     },
     "execution_count": 57,
     "metadata": {},
     "output_type": "execute_result"
    }
   ],
   "source": [
    "dv.map(lambda x: get_rnd_vector(x), [2,3,4,5]).get()"
   ]
  },
  {
   "cell_type": "markdown",
   "metadata": {},
   "source": [
    "observa que la función no existe en el cliente"
   ]
  },
  {
   "cell_type": "code",
   "execution_count": 58,
   "metadata": {
    "collapsed": false
   },
   "outputs": [
    {
     "ename": "NameError",
     "evalue": "name 'get_rnd_vector' is not defined",
     "output_type": "error",
     "traceback": [
      "\u001b[0;31m---------------------------------------------------------------------------\u001b[0m",
      "\u001b[0;31mNameError\u001b[0m                                 Traceback (most recent call last)",
      "\u001b[0;32m<ipython-input-58-7c34f50f0497>\u001b[0m in \u001b[0;36m<module>\u001b[0;34m()\u001b[0m\n\u001b[0;32m----> 1\u001b[0;31m \u001b[0mget_rnd_vector\u001b[0m\u001b[0;34m(\u001b[0m\u001b[0;36m5\u001b[0m\u001b[0;34m)\u001b[0m\u001b[0;34m\u001b[0m\u001b[0m\n\u001b[0m",
      "\u001b[0;31mNameError\u001b[0m: name 'get_rnd_vector' is not defined"
     ]
    }
   ],
   "source": [
    "get_rnd_vector(5)"
   ]
  },
  {
   "cell_type": "code",
   "execution_count": 169,
   "metadata": {
    "collapsed": false
   },
   "outputs": [],
   "source": [
    "%%px --local\n",
    "import numpy as np\n",
    "import os\n",
    "def is_prime(a):\n",
    "    prime = True    \n",
    "    for i in np.arange(2, a):\n",
    "        if float(a)/i % 1 == 0:\n",
    "            prime = False\n",
    "    return os.getpid(),prime"
   ]
  },
  {
   "cell_type": "code",
   "execution_count": 170,
   "metadata": {
    "collapsed": false
   },
   "outputs": [
    {
     "name": "stdout",
     "output_type": "stream",
     "text": [
      "[stdout:0] my pid 82973 (82973, True)\n",
      "[stdout:1] my pid 82971 (82971, True)\n",
      "[stdout:2] my pid 82972 (82972, True)\n",
      "[stdout:3] my pid 82970 (82970, True)\n"
     ]
    }
   ],
   "source": [
    "%%px\n",
    "print \"my pid\", os.getpid(), is_prime(3)"
   ]
  },
  {
   "cell_type": "markdown",
   "metadata": {},
   "source": [
    "`%px` is for simple execution, with stdout and stderr capture. Typically you would use methods from the `DirectView`"
   ]
  },
  {
   "cell_type": "code",
   "execution_count": 171,
   "metadata": {
    "collapsed": false
   },
   "outputs": [
    {
     "data": {
      "text/plain": [
       "[(82973, True),\n",
       " (82973, True),\n",
       " (82973, True),\n",
       " (82971, False),\n",
       " (82971, True),\n",
       " (82972, False),\n",
       " (82972, True),\n",
       " (82970, False),\n",
       " (82970, False)]"
      ]
     },
     "execution_count": 171,
     "metadata": {},
     "output_type": "execute_result"
    }
   ],
   "source": [
    "dv.map_sync(is_prime,[1,2,3,4,5,6,7,8,9])"
   ]
  },
  {
   "cell_type": "markdown",
   "metadata": {
    "collapsed": true
   },
   "source": [
    "### Midiendo el tiempo de ejecución en IPython"
   ]
  },
  {
   "cell_type": "code",
   "execution_count": 59,
   "metadata": {
    "collapsed": true
   },
   "outputs": [],
   "source": [
    "def long_loop(N):\n",
    "    for i in xrange(int(N)):\n",
    "        a = 1"
   ]
  },
  {
   "cell_type": "code",
   "execution_count": 60,
   "metadata": {
    "collapsed": false
   },
   "outputs": [
    {
     "name": "stdout",
     "output_type": "stream",
     "text": [
      "10000 loops, best of 3: 48.2 µs per loop\n"
     ]
    }
   ],
   "source": [
    "%timeit long_loop(1e3)"
   ]
  },
  {
   "cell_type": "code",
   "execution_count": 61,
   "metadata": {
    "collapsed": false
   },
   "outputs": [
    {
     "name": "stdout",
     "output_type": "stream",
     "text": [
      "100 loops, best of 4: 43.4 µs per loop\n"
     ]
    }
   ],
   "source": [
    "%timeit -n 100 -r 4 long_loop(1e3)"
   ]
  },
  {
   "cell_type": "code",
   "execution_count": 62,
   "metadata": {
    "collapsed": false
   },
   "outputs": [
    {
     "name": "stdout",
     "output_type": "stream",
     "text": [
      "2000 loops, best of 4: 47.4 µs per loop\n"
     ]
    }
   ],
   "source": [
    "t = %timeit -n 2000 -r 4 -o long_loop(1e3)"
   ]
  },
  {
   "cell_type": "code",
   "execution_count": 63,
   "metadata": {
    "collapsed": false
   },
   "outputs": [
    {
     "name": "stdout",
     "output_type": "stream",
     "text": [
      "loops        2000\n",
      "repeats      4\n",
      "compile time 0.00019\n",
      "best         4.74104881287e-05\n",
      "all          [0.09482097625732422, 0.09891605377197266, 0.14472198486328125, 0.10009288787841797]\n",
      "all/nloops   [  4.74104881e-05   4.94580269e-05   7.23609924e-05   5.00464439e-05]\n"
     ]
    }
   ],
   "source": [
    "import numpy as np\n",
    "print \"loops       \", t.loops\n",
    "print \"repeats     \", t.repeat\n",
    "print \"compile time\", t.compile_time\n",
    "print \"best        \", t.best\n",
    "print \"all         \", t.all_runs\n",
    "print \"all/nloops  \", np.array(t.all_runs)/t.loops"
   ]
  },
  {
   "cell_type": "markdown",
   "metadata": {},
   "source": [
    "observa que cada run ejecuta 2000 veces (_loops_) el código. `t.all_runs` reporta el tiempo total de cada run. al dividir `t.all_runs` por el número total de _loops_ obtenemos el tiempo medio de ejecución del código."
   ]
  },
  {
   "cell_type": "code",
   "execution_count": null,
   "metadata": {
    "collapsed": true
   },
   "outputs": [],
   "source": []
  }
 ],
 "metadata": {
  "kernelspec": {
   "display_name": "Python 2",
   "language": "python",
   "name": "python2"
  },
  "language_info": {
   "codemirror_mode": {
    "name": "ipython",
    "version": 2
   },
   "file_extension": ".py",
   "mimetype": "text/x-python",
   "name": "python",
   "nbconvert_exporter": "python",
   "pygments_lexer": "ipython2",
   "version": "2.7.11"
  },
  "toc": {
   "toc_cell": false,
   "toc_number_sections": false,
   "toc_threshold": 6,
   "toc_window_display": false
  }
 },
 "nbformat": 4,
 "nbformat_minor": 0
}
