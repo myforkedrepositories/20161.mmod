{
 "cells": [
  {
   "cell_type": "markdown",
   "metadata": {},
   "source": [
    "# Animations for the Dumped Oscillator\n",
    "\n",
    "- set up and solve differential equations\n",
    "- solve for constants given initial conditions\n",
    "- create animation"
   ]
  },
  {
   "cell_type": "code",
   "execution_count": 1,
   "metadata": {
    "collapsed": true
   },
   "outputs": [],
   "source": [
    "from sympy import *\n",
    "import numpy as np\n",
    "import matplotlib\n",
    "matplotlib.use(\"Agg\")\n",
    "import matplotlib.pyplot as plt\n",
    "import matplotlib.animation as animation\n",
    "import sys\n",
    "\n",
    "init_printing(use_latex=True)"
   ]
  },
  {
   "cell_type": "code",
   "execution_count": 2,
   "metadata": {
    "collapsed": true
   },
   "outputs": [],
   "source": [
    "def solve_do(omega_0, xi, init_pos, init_vel):\n",
    "    t, w = symbols(\"t \\\\omega_0\", positive=True)\n",
    "    d = symbols(\"\\\\xi\", real=True)\n",
    "    x = Function(\"x\", real=True)\n",
    "    eq = x(t).diff(t,t) + 2*d*w*x(t).diff(t) + w**2*x(t)\n",
    "    eq = eq.subs(w, omega_0).subs(d, xi)\n",
    "    sol = dsolve(eq,x(t))\n",
    "\n",
    "    C1, C2 = symbols(\"C1, C2\")\n",
    "    const = solve([sol.rhs.subs(t,0) - init_pos, sol.rhs.diff(t).subs(t, 0)-init_vel], [C1,C2])\n",
    "    initvalue_solution = sol.rhs.subs(C1, const[C1]).subs(C2, const[C2])\n",
    "    \n",
    "    F = lambdify(t, initvalue_solution, \"numpy\")\n",
    "    \n",
    "    return F\n",
    "    "
   ]
  },
  {
   "cell_type": "code",
   "execution_count": 3,
   "metadata": {
    "collapsed": false,
    "scrolled": false
   },
   "outputs": [],
   "source": [
    "def generate_animation(fname, params1, params2, t_max=400, x_range=(-1.2,1.1)):\n",
    "    global points1, points2,  c\n",
    "    \n",
    "    omega1    = params1[\"omega0\"]\n",
    "    xi1       = params1[\"xi\"]\n",
    "    init_pos1 = params1[\"init_pos\"]\n",
    "    init_vel1 = params1[\"init_vel\"]\n",
    "    \n",
    "    omega2    = params2[\"omega0\"]\n",
    "    xi2       = params2[\"xi\"]\n",
    "    init_pos2 = params2[\"init_pos\"]\n",
    "    init_vel2 = params2[\"init_vel\"]\n",
    "\n",
    "    F1 = solve_do(omega1, xi1, init_pos1, init_vel1)\n",
    "    F2 = solve_do(omega2, xi2, init_pos2, init_vel2)\n",
    "    \n",
    "    fig = plt.figure(figsize=(7,3))\n",
    "    ax = fig.add_subplot(111)\n",
    "    s1_main   = plt.scatter(F1(0),0 , color=\"red\", alpha=0.5, s=100)\n",
    "    s1_points = plt.scatter([], [] , color=\"blue\", alpha=0.5, s=20)\n",
    "    s2_main   = plt.scatter(F2(0),0 , color=\"red\", alpha=0.5, s=100)\n",
    "    s2_points = plt.scatter([], [] , color=\"blue\", alpha=0.5, s=20)\n",
    "    text     = ax.text (x_range[0]+(x_range[1]-x_range[0])/2,.55, \"$t=0 secstou\", size=10)#str(sats[i]), size=8)\n",
    "\n",
    "    text1     = ax.text (x_range[0]+.2,-.35, \"$\\omega_0=%.2f\"%omega1+\", \\\\xi=%.3f\"%xi1+\n",
    "                         \", x_0=%.2f\"%init_pos1+\", v_0=%.2f$\"%init_vel1, size=10)#str(sats[i]), size=8)\n",
    "    text2     = ax.text (x_range[0]+.2,.35, \"$\\omega_0=%.2f\"%omega2+\", \\\\xi=%.3f\"%xi2+\n",
    "                         \", x_0=%.2f\"%init_pos2+\", v_0=%.2f$\"%init_vel2, size=10)#str(sats[i]), size=8)\n",
    "    \n",
    "    \n",
    "    plt.xlim(x_range[0],x_range[1])\n",
    "    plt.ylim(-0.5,0.5)\n",
    "\n",
    "    points1 = []\n",
    "    points2 = []\n",
    "\n",
    "    c=1\n",
    "    print \"frame number:\",\n",
    "    def update(time):\n",
    "        global points1, points2, c;  \n",
    "        if c%10==0: print c, \n",
    "        sys.stdout.flush(); c+=1    \n",
    "\n",
    "        x1_pos = F1(time)\n",
    "        x2_pos = F2(time)\n",
    "\n",
    "        points1.append(x1_pos)\n",
    "        points1 = points1[-10:]\n",
    "        s1_main.set_offsets([[x1_pos, -.2 ]])\n",
    "        s1_points.set_offsets(np.vstack((points1, -.2*np.ones(len(points1)))).T)\n",
    "\n",
    "        points2.append(x2_pos)\n",
    "        points2 = points2[-10:]\n",
    "        s2_main.set_offsets([[x2_pos, .2 ]])\n",
    "        s2_points.set_offsets(np.vstack((points2, .2*np.ones(len(points2)))).T)\n",
    "        \n",
    "        \n",
    "        text.set_text(\"$t=%6.2f secs$\"%time)\n",
    "    plt.close(fig)\n",
    "    anim = animation.FuncAnimation(fig, update, np.arange(t_max)*1./10) #len(dtimes.keys()))\n",
    "    anim.save(fname, writer=\"ffmpeg\", fps=20, bitrate=1800)"
   ]
  },
  {
   "cell_type": "markdown",
   "metadata": {},
   "source": [
    "## Create an animation with different $\\omega_0$"
   ]
  },
  {
   "cell_type": "code",
   "execution_count": 4,
   "metadata": {
    "collapsed": false
   },
   "outputs": [
    {
     "name": "stdout",
     "output_type": "stream",
     "text": [
      "frame number: 10 20 30 40 50 60 70 80 90 100 110 120 130 140 150 160 170 180 190 200\n"
     ]
    }
   ],
   "source": [
    "params1 = { \"omega0\": 1, \"xi\": 0.05, \"init_pos\": 1, \"init_vel\": 0 }\n",
    "params2 = { \"omega0\": 2, \"xi\": 0.05, \"init_pos\": 1, \"init_vel\": 0 }\n",
    "\n",
    "generate_animation(\"anims/anim-damped-omega.mp4\", params1, params2, t_max=200, x_range=(-2,2))"
   ]
  },
  {
   "cell_type": "markdown",
   "metadata": {},
   "source": [
    "## Create an animation with different $\\xi$"
   ]
  },
  {
   "cell_type": "code",
   "execution_count": 5,
   "metadata": {
    "collapsed": false
   },
   "outputs": [
    {
     "name": "stdout",
     "output_type": "stream",
     "text": [
      "frame number: 10 20 30 40 50 60 70 80 90 100 110 120 130 140 150 160 170 180 190 200\n"
     ]
    }
   ],
   "source": [
    "params1 = { \"omega0\": 1, \"xi\": 0.05, \"init_pos\": 1, \"init_vel\": 0 }\n",
    "params2 = { \"omega0\": 1, \"xi\": 0.001, \"init_pos\": 1, \"init_vel\": 0 }\n",
    "\n",
    "generate_animation(\"anims/anim-damped-chi.mp4\", params1, params2, t_max=200, x_range=(-2,2))"
   ]
  },
  {
   "cell_type": "code",
   "execution_count": null,
   "metadata": {
    "collapsed": true
   },
   "outputs": [],
   "source": []
  }
 ],
 "metadata": {
  "kernelspec": {
   "display_name": "Python 2",
   "language": "python",
   "name": "python2"
  },
  "language_info": {
   "codemirror_mode": {
    "name": "ipython",
    "version": 2
   },
   "file_extension": ".py",
   "mimetype": "text/x-python",
   "name": "python",
   "nbconvert_exporter": "python",
   "pygments_lexer": "ipython2",
   "version": "2.7.11"
  },
  "toc": {
   "toc_cell": false,
   "toc_number_sections": false,
   "toc_threshold": 6,
   "toc_window_display": false
  }
 },
 "nbformat": 4,
 "nbformat_minor": 0
}
