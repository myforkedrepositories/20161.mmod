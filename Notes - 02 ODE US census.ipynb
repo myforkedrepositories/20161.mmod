{
 "cells": [
  {
   "cell_type": "markdown",
   "metadata": {},
   "source": [
    "# US Census Data 1790-2000\n",
    "\n",
    "Based on EdX [Introduction to Differential Equations](https://courses.edx.org/courses/course-v1%3ABUx%2BMath226.1x%2B1T2016/) and [this notes](http://www.math.northwestern.edu/~mlerma/courses/math214-2-04f/notes/c2-logist.pdf)\n",
    "\n",
    "Given a population $p$ at a certain time, assumes the relative growth rate decreases linearly with $p$. The relative growth rate is defined as $\\delta p / p = \\frac{dp}{dt} \\frac{1}{p}$\n",
    "\n",
    "\n",
    "<img src=\"imgs/difflr.jpg\"/>\n",
    "\n",
    "\n",
    "this is, \n",
    "\n",
    "$$\\frac{dp}{dt} = k p (1-\\frac{p}{n})$$\n",
    "\n",
    "\n",
    "meaning that $\\frac{1}{p}\\frac{dp}{dt}$ is linear in $p$"
   ]
  },
  {
   "cell_type": "markdown",
   "metadata": {},
   "source": [
    "## 1. Estimate $k$ and $N$ from data\n",
    "\n",
    "### A. Load and show data"
   ]
  },
  {
   "cell_type": "code",
   "execution_count": 2,
   "metadata": {
    "collapsed": false
   },
   "outputs": [
    {
     "data": {
      "text/plain": [
       "<matplotlib.collections.PathCollection at 0x111a03c90>"
      ]
     },
     "execution_count": 2,
     "metadata": {},
     "output_type": "execute_result"
    },
    {
     "data": {
      "image/png": "[encoded data removed]",
      "text/plain": [
       "<matplotlib.figure.Figure at 0x112032410>"
      ]
     },
     "metadata": {},
     "output_type": "display_data"
    }
   ],
   "source": [
    "import pandas as pd\n",
    "import numpy as np\n",
    "import matplotlib.pyplot as plt\n",
    "%matplotlib inline\n",
    "\n",
    "uscensus = pd.read_csv(\"data/uspop.csv\")\n",
    "uscensus[\"population\"] = uscensus[\"population\"]/1e6\n",
    "plt.scatter(uscensus[\"year\"], uscensus[\"population\"])"
   ]
  },
  {
   "cell_type": "code",
   "execution_count": 3,
   "metadata": {
    "collapsed": false
   },
   "outputs": [
    {
     "data": {
      "text/html": [
       "<div>\n",
       "<table border=\"1\" class=\"dataframe\">\n",
       "  <thead>\n",
       "    <tr style=\"text-align: right;\">\n",
       "      <th></th>\n",
       "      <th>year</th>\n",
       "      <th>population</th>\n",
       "    </tr>\n",
       "  </thead>\n",
       "  <tbody>\n",
       "    <tr>\n",
       "      <th>0</th>\n",
       "      <td>1790</td>\n",
       "      <td>3.929214</td>\n",
       "    </tr>\n",
       "    <tr>\n",
       "      <th>1</th>\n",
       "      <td>1800</td>\n",
       "      <td>5.308483</td>\n",
       "    </tr>\n",
       "    <tr>\n",
       "      <th>2</th>\n",
       "      <td>1810</td>\n",
       "      <td>7.239881</td>\n",
       "    </tr>\n",
       "    <tr>\n",
       "      <th>3</th>\n",
       "      <td>1820</td>\n",
       "      <td>9.638453</td>\n",
       "    </tr>\n",
       "    <tr>\n",
       "      <th>4</th>\n",
       "      <td>1830</td>\n",
       "      <td>12.860702</td>\n",
       "    </tr>\n",
       "  </tbody>\n",
       "</table>\n",
       "</div>"
      ],
      "text/plain": [
       "   year  population\n",
       "0  1790    3.929214\n",
       "1  1800    5.308483\n",
       "2  1810    7.239881\n",
       "3  1820    9.638453\n",
       "4  1830   12.860702"
      ]
     },
     "execution_count": 3,
     "metadata": {},
     "output_type": "execute_result"
    }
   ],
   "source": [
    "uscensus.head()"
   ]
  },
  {
   "cell_type": "markdown",
   "metadata": {
    "collapsed": true
   },
   "source": [
    "### B. Estimate $k$ and $N$ from data\n",
    "\n",
    "The population of a given year is $P_{year}$. For instance $P_{1790}=3.93$, $P_{1800}=5.30$, etc.\n",
    "\n",
    "For any given year, we can estimate the growth rate using the data from the previous and the next year.\n",
    "\n",
    "The **growth rate** of any given year as estimated by the data is:\n",
    "\n",
    "$$G_{y} = \\frac{P_{y[+1]}-P_{y[-1]}}{(y[+1]-y[-1])}$$\n",
    "\n",
    "where $y[-1]$ and $y[+1]$ are the previous and next year to $y$ for which we have data.\n",
    "\n",
    "The **relative growth rate** of any given year is estimated by:\n",
    "\n",
    "$$R_y = \\frac{G_y}{P_y}$$"
   ]
  },
  {
   "cell_type": "code",
   "execution_count": 4,
   "metadata": {
    "collapsed": false
   },
   "outputs": [
    {
     "data": {
      "text/html": [
       "<div>\n",
       "<table border=\"1\" class=\"dataframe\">\n",
       "  <thead>\n",
       "    <tr style=\"text-align: right;\">\n",
       "      <th></th>\n",
       "      <th>year</th>\n",
       "      <th>population</th>\n",
       "      <th>growth</th>\n",
       "      <th>relgrowth</th>\n",
       "    </tr>\n",
       "  </thead>\n",
       "  <tbody>\n",
       "    <tr>\n",
       "      <th>0</th>\n",
       "      <td>1790</td>\n",
       "      <td>3.929214</td>\n",
       "      <td>NaN</td>\n",
       "      <td>NaN</td>\n",
       "    </tr>\n",
       "    <tr>\n",
       "      <th>1</th>\n",
       "      <td>1800</td>\n",
       "      <td>5.308483</td>\n",
       "      <td>0.165533</td>\n",
       "      <td>0.031183</td>\n",
       "    </tr>\n",
       "    <tr>\n",
       "      <th>2</th>\n",
       "      <td>1810</td>\n",
       "      <td>7.239881</td>\n",
       "      <td>0.216499</td>\n",
       "      <td>0.029904</td>\n",
       "    </tr>\n",
       "    <tr>\n",
       "      <th>3</th>\n",
       "      <td>1820</td>\n",
       "      <td>9.638453</td>\n",
       "      <td>0.281041</td>\n",
       "      <td>0.029158</td>\n",
       "    </tr>\n",
       "    <tr>\n",
       "      <th>4</th>\n",
       "      <td>1830</td>\n",
       "      <td>12.860702</td>\n",
       "      <td>0.371245</td>\n",
       "      <td>0.028867</td>\n",
       "    </tr>\n",
       "  </tbody>\n",
       "</table>\n",
       "</div>"
      ],
      "text/plain": [
       "   year  population    growth  relgrowth\n",
       "0  1790    3.929214       NaN        NaN\n",
       "1  1800    5.308483  0.165533   0.031183\n",
       "2  1810    7.239881  0.216499   0.029904\n",
       "3  1820    9.638453  0.281041   0.029158\n",
       "4  1830   12.860702  0.371245   0.028867"
      ]
     },
     "execution_count": 4,
     "metadata": {},
     "output_type": "execute_result"
    }
   ],
   "source": [
    "pop = uscensus[\"population\"].as_matrix()\n",
    "uscensus[\"growth\"] = [None]+list((pop[2:]-pop[:-2])/20)+[None]\n",
    "uscensus[\"relgrowth\"] = uscensus[\"growth\"]/uscensus[\"population\"]\n",
    "uscensus.head()"
   ]
  },
  {
   "cell_type": "code",
   "execution_count": 5,
   "metadata": {
    "collapsed": false
   },
   "outputs": [
    {
     "data": {
      "text/plain": [
       "<matplotlib.text.Text at 0x111a1bfd0>"
      ]
     },
     "execution_count": 5,
     "metadata": {},
     "output_type": "execute_result"
    },
    {
     "data": {
      "image/png": "[encoded data removed]",
      "text/plain": [
       "<matplotlib.figure.Figure at 0x1117608d0>"
      ]
     },
     "metadata": {},
     "output_type": "display_data"
    }
   ],
   "source": [
    "plt.scatter(uscensus[\"population\"], uscensus[\"relgrowth\"])\n",
    "plt.xlabel(\"population\")\n",
    "plt.ylabel(\"relative rate of growth = $dp/dt$ x $1/p$\")"
   ]
  },
  {
   "cell_type": "markdown",
   "metadata": {},
   "source": [
    "use a linear regression to fit a line to the data and get $k$, and $N$ which are the intercept points with each axis. recall from above that $m=-k/N$"
   ]
  },
  {
   "cell_type": "code",
   "execution_count": 7,
   "metadata": {
    "collapsed": false
   },
   "outputs": [
    {
     "name": "stdout",
     "output_type": "stream",
     "text": [
      "N 329.688289793\n",
      "k 0.0286629770895\n"
     ]
    }
   ],
   "source": [
    "X = uscensus[\"population\"].as_matrix()[1:-1].reshape((-1,1))\n",
    "y = uscensus[\"relgrowth\"].as_matrix()[1:-1]\n",
    "\n",
    "from sklearn.linear_model import LinearRegression\n",
    "\n",
    "lr = LinearRegression().fit(X,y)\n",
    "m = lr.coef_ [0]\n",
    "k_val  = lr.intercept_\n",
    "n_val  = -k_val/m\n",
    "print \"N\", n_val\n",
    "print \"k\", k_val"
   ]
  },
  {
   "cell_type": "code",
   "execution_count": 8,
   "metadata": {
    "collapsed": false
   },
   "outputs": [
    {
     "data": {
      "text/plain": [
       "[<matplotlib.lines.Line2D at 0x117492f50>]"
      ]
     },
     "execution_count": 8,
     "metadata": {},
     "output_type": "execute_result"
    },
    {
     "data": {
      "image/png": "[encoded data removed]",
      "text/plain": [
       "<matplotlib.figure.Figure at 0x117412110>"
      ]
     },
     "metadata": {},
     "output_type": "display_data"
    }
   ],
   "source": [
    "plt.scatter(uscensus[\"population\"], uscensus[\"relgrowth\"])\n",
    "x = np.linspace(np.min(-5), n_val+20, 100)\n",
    "plt.plot(x, k_val+m*x)\n",
    "plt.plot(np.linspace(-5,n_val+20,100), np.zeros(100), color=\"gray\")\n",
    "plt.plot(np.zeros(100), np.linspace(-.001,k_val*1.3,100), color=\"gray\")"
   ]
  },
  {
   "cell_type": "markdown",
   "metadata": {
    "collapsed": true
   },
   "source": [
    "## 2. Solve the ODE\n",
    "\n",
    "### A. Setup and solve the ODE"
   ]
  },
  {
   "cell_type": "code",
   "execution_count": 27,
   "metadata": {
    "collapsed": false
   },
   "outputs": [
    {
     "data": {
      "image/png": "[encoded data removed]",
      "text/latex": [
       "$$\\frac{d}{d t} P{\\left (t \\right )} = \\frac{k}{n} \\left(n - P{\\left (t \\right )}\\right) P{\\left (t \\right )}$$"
      ],
      "text/plain": [
       "d          k⋅(n - P(t))⋅P(t)\n",
       "──(P(t)) = ─────────────────\n",
       "dt                 n        "
      ]
     },
     "execution_count": 27,
     "metadata": {},
     "output_type": "execute_result"
    }
   ],
   "source": [
    "from sympy import *\n",
    "init_printing(use_latex=True)\n",
    "t, C1, C2, A, p_init = symbols(\"t C1 C2 A p_{init}\")\n",
    "k, n = symbols(\"k n\", positive=True)\n",
    "P = symbols('P', cls=Function)\n",
    "eq = simplify(k*P(t)*(1-P(t)/n))\n",
    "diffeq = Eq(P(t).diff(t) , eq)\n",
    "diffeq\n"
   ]
  },
  {
   "cell_type": "code",
   "execution_count": 13,
   "metadata": {
    "collapsed": false
   },
   "outputs": [
    {
     "data": {
      "image/png": "[encoded data removed]",
      "text/latex": [
       "$$\\frac{n e^{C_{1} n + k t}}{e^{C_{1} n + k t} - 1}$$"
      ],
      "text/plain": [
       "    C₁⋅n + k⋅t \n",
       " n⋅ℯ           \n",
       "───────────────\n",
       " C₁⋅n + k⋅t    \n",
       "ℯ           - 1"
      ]
     },
     "execution_count": 13,
     "metadata": {},
     "output_type": "execute_result"
    }
   ],
   "source": [
    "pt = dsolve(diffeq, P(t))\n",
    "pt.rhs"
   ]
  },
  {
   "cell_type": "markdown",
   "metadata": {},
   "source": [
    "Check the solution is correct"
   ]
  },
  {
   "cell_type": "code",
   "execution_count": 14,
   "metadata": {
    "collapsed": false
   },
   "outputs": [
    {
     "data": {
      "image/png": "[encoded data removed]",
      "text/latex": [
       "$$0$$"
      ],
      "text/plain": [
       "0"
      ]
     },
     "execution_count": 14,
     "metadata": {},
     "output_type": "execute_result"
    }
   ],
   "source": [
    "simplify(eq.subs(P(t), pt.rhs) - diff(pt.rhs, t))"
   ]
  },
  {
   "cell_type": "markdown",
   "metadata": {},
   "source": [
    "### B. Try to obtain params"
   ]
  },
  {
   "cell_type": "markdown",
   "metadata": {},
   "source": [
    "now, if we try to solve for $C_1$ given the initial conditions, $P(0)=3.93$ and $k$ and $n$ estimated from the data, the solver fails (either hangs or takes a long time to yield an error)."
   ]
  },
  {
   "cell_type": "code",
   "execution_count": 63,
   "metadata": {
    "collapsed": false
   },
   "outputs": [
    {
     "name": "stdout",
     "output_type": "stream",
     "text": [
      "initial conditions: P(0)=3.929\n",
      "estimated params:   k=0.0287 n=329.69\n"
     ]
    },
    {
     "data": {
      "image/png": "[encoded data removed]",
      "text/latex": [
       "$$\\frac{329.688289793004 e^{329.688289793004 C_{1}}}{e^{329.688289793004 C_{1}} - 1} = 3.929214$$"
      ],
      "text/plain": [
       "                  329.688289793004⋅C₁           \n",
       "329.688289793004⋅ℯ                              \n",
       "───────────────────────────────────── = 3.929214\n",
       "        329.688289793004⋅C₁                     \n",
       "       ℯ                    - 1                 "
      ]
     },
     "execution_count": 63,
     "metadata": {},
     "output_type": "execute_result"
    }
   ],
   "source": [
    "p0 = uscensus.population[0]\n",
    "t0 = 0\n",
    "\n",
    "print \"initial conditions: P(0)=%.3f\"%p0\n",
    "print \"estimated params:   k=%.4f\"%k_val, \"n=%6.2f\"%n_val\n",
    "\n",
    "param_eq = Eq(pt.rhs.subs({n:n_val, k: k_val, t: t0}), p0)\n",
    "param_eq"
   ]
  },
  {
   "cell_type": "code",
   "execution_count": null,
   "metadata": {
    "collapsed": false
   },
   "outputs": [],
   "source": [
    "solve(param_eq)"
   ]
  },
  {
   "cell_type": "markdown",
   "metadata": {},
   "source": [
    "### C. Substitue and obtain ODE params\n",
    "\n",
    "However, if we perform the substitution:\n",
    "    \n",
    "$$e^{C_1n} = -\\frac{1}{A}$$\n",
    "\n",
    "we really help the solver."
   ]
  },
  {
   "cell_type": "code",
   "execution_count": 61,
   "metadata": {
    "collapsed": false
   },
   "outputs": [
    {
     "data": {
      "image/png": "[encoded data removed]",
      "text/latex": [
       "$$\\frac{n e^{k t}}{A + e^{k t}}$$"
      ],
      "text/plain": [
       "    k⋅t \n",
       " n⋅ℯ    \n",
       "────────\n",
       "     k⋅t\n",
       "A + ℯ   "
      ]
     },
     "execution_count": 61,
     "metadata": {},
     "output_type": "execute_result"
    }
   ],
   "source": [
    "pt2 = simplify(pt.rhs.subs({exp(C1*n):-1/A}))\n",
    "pt2"
   ]
  },
  {
   "cell_type": "code",
   "execution_count": 64,
   "metadata": {
    "collapsed": false
   },
   "outputs": [
    {
     "data": {
      "image/png": "[encoded data removed]",
      "text/latex": [
       "$$82.9069314608479$$"
      ],
      "text/plain": [
       "82.9069314608479"
      ]
     },
     "execution_count": 64,
     "metadata": {},
     "output_type": "execute_result"
    }
   ],
   "source": [
    "sol = solve(pt2.subs({n:n_val, k: k_val, t: t0})-p0)\n",
    "A_val = sol[0]\n",
    "A_val"
   ]
  },
  {
   "cell_type": "markdown",
   "metadata": {},
   "source": [
    "we check anyhow that the new expression also complies with the differential equaltion"
   ]
  },
  {
   "cell_type": "code",
   "execution_count": 65,
   "metadata": {
    "collapsed": false
   },
   "outputs": [
    {
     "data": {
      "image/png": "[encoded data removed]",
      "text/latex": [
       "$$0$$"
      ],
      "text/plain": [
       "0"
      ]
     },
     "execution_count": 65,
     "metadata": {},
     "output_type": "execute_result"
    }
   ],
   "source": [
    "simplify(eq.subs(P(t), pt2) - diff(pt2, t))"
   ]
  },
  {
   "cell_type": "markdown",
   "metadata": {},
   "source": [
    "### C. Plot prediction"
   ]
  },
  {
   "cell_type": "markdown",
   "metadata": {},
   "source": [
    "and finally we obtain an evaluable function and plot it along side the data to get a sense of how well it models it"
   ]
  },
  {
   "cell_type": "code",
   "execution_count": 68,
   "metadata": {
    "collapsed": true
   },
   "outputs": [],
   "source": [
    "fpa = lambda x: pt2.subs({n: n_val, k: k_val, t: x, A: A_val})\n",
    "fpa = np.vectorize(fpa)"
   ]
  },
  {
   "cell_type": "code",
   "execution_count": 71,
   "metadata": {
    "collapsed": false
   },
   "outputs": [
    {
     "data": {
      "text/plain": [
       "<matplotlib.text.Text at 0x11c011410>"
      ]
     },
     "execution_count": 71,
     "metadata": {},
     "output_type": "execute_result"
    },
    {
     "data": {
      "image/png": "[encoded data removed]",
      "text/plain": [
       "<matplotlib.figure.Figure at 0x11bef82d0>"
      ]
     },
     "metadata": {},
     "output_type": "display_data"
    }
   ],
   "source": [
    "plt.scatter(uscensus[\"year\"], uscensus[\"population\"])\n",
    "x = np.linspace(1790,2100,100)\n",
    "plt.plot(x, fpa(x-1790))\n",
    "plt.xlabel(\"year\")\n",
    "plt.ylabel(\"population\")"
   ]
  },
  {
   "cell_type": "markdown",
   "metadata": {
    "collapsed": true
   },
   "source": [
    "### D. Different functions for different initial conditions"
   ]
  },
  {
   "cell_type": "code",
   "execution_count": 75,
   "metadata": {
    "collapsed": false
   },
   "outputs": [
    {
     "data": {
      "text/plain": [
       "<matplotlib.legend.Legend at 0x11cb8ac90>"
      ]
     },
     "execution_count": 75,
     "metadata": {},
     "output_type": "execute_result"
    },
    {
     "data": {
      "image/png": "[encoded data removed]",
      "text/plain": [
       "<matplotlib.figure.Figure at 0x119dc9650>"
      ]
     },
     "metadata": {},
     "output_type": "display_data"
    }
   ],
   "source": [
    "t0=0\n",
    "for p_init in [0.00001,0.5,1,3,10,100,n_val]:\n",
    "    sol = solve(pt2.subs({n:n_val, k: k_val, t: t0})-p_init)\n",
    "    A_v = sol[0]\n",
    "    f = np.vectorize(lambda x: pt2.subs({n: n_val, k: k_val, t: x, A: A_v}))\n",
    "    x = np.linspace(0,400,100)\n",
    "    plt.plot(x, f(x), label=\"$P_0=%.2f$\"%p_init)\n",
    "plt.legend(loc='center left', bbox_to_anchor=(1, 0.5))\n"
   ]
  },
  {
   "cell_type": "code",
   "execution_count": null,
   "metadata": {
    "collapsed": true
   },
   "outputs": [],
   "source": []
  }
 ],
 "metadata": {
  "kernelspec": {
   "display_name": "Python 2",
   "language": "python",
   "name": "python2"
  },
  "language_info": {
   "codemirror_mode": {
    "name": "ipython",
    "version": 2
   },
   "file_extension": ".py",
   "mimetype": "text/x-python",
   "name": "python",
   "nbconvert_exporter": "python",
   "pygments_lexer": "ipython2",
   "version": "2.7.11"
  },
  "toc": {
   "toc_cell": false,
   "toc_number_sections": false,
   "toc_section_display": "block",
   "toc_threshold": 6,
   "toc_window_display": false
  },
  "toc_position": {
   "height": "239px",
   "left": "1016.02px",
   "right": "20px",
   "top": "111px",
   "width": "306px"
  }
 },
 "nbformat": 4,
 "nbformat_minor": 0
}
