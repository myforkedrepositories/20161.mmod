{
 "cells": [
  {
   "cell_type": "code",
   "execution_count": 138,
   "metadata": {
    "collapsed": true
   },
   "outputs": [],
   "source": [
    "from sympy import *\n",
    "import numpy as np\n",
    "from timeit import default_timer as timer\n",
    "from sympy.printing.theanocode import theano_function\n",
    "from numba import vectorize, float64, autojit"
   ]
  },
  {
   "cell_type": "markdown",
   "metadata": {},
   "source": [
    "## Obtaining a compiled function from a symbolic expression"
   ]
  },
  {
   "cell_type": "code",
   "execution_count": 139,
   "metadata": {
    "collapsed": false
   },
   "outputs": [],
   "source": [
    "x = symbols(\"x\")\n",
    "f = cos(x)*sin(x)**2 + sin(4*(x - x**2*sin(x)))\n",
    "lf  = lambdify(x,f,\"numpy\")\n",
    "npf = np.vectorize(lambdify(x,f,\"numpy\"))\n",
    "thf = theano_function([x], [f], dims={x:1})\n",
    "\n",
    "@vectorize([float64(float64)], target=\"cpu\")\n",
    "def nmf(x):\n",
    "    return lf(x)\n",
    "\n",
    "@autojit\n",
    "def cf(x):\n",
    "    return lf(x)\n",
    "\n",
    "@vectorize([float64(float64)], target=\"cpu\")\n",
    "def cvf(x):\n",
    "    return cf(x)\n"
   ]
  },
  {
   "cell_type": "code",
   "execution_count": 140,
   "metadata": {
    "collapsed": false
   },
   "outputs": [
    {
     "data": {
      "text/plain": [
       "array([ 0.97503935, -0.60654201,  0.57466439,  0.62509067,  0.60044611])"
      ]
     },
     "execution_count": 140,
     "metadata": {},
     "output_type": "execute_result"
    }
   ],
   "source": [
    "npf([1,2,3,4,5])"
   ]
  },
  {
   "cell_type": "code",
   "execution_count": 141,
   "metadata": {
    "collapsed": false
   },
   "outputs": [
    {
     "data": {
      "text/plain": [
       "array([ 0.97503935, -0.60654201,  0.57466439,  0.62509067,  0.60044611])"
      ]
     },
     "execution_count": 141,
     "metadata": {},
     "output_type": "execute_result"
    }
   ],
   "source": [
    "thf([1,2,3,4,5])"
   ]
  },
  {
   "cell_type": "code",
   "execution_count": 142,
   "metadata": {
    "collapsed": false
   },
   "outputs": [
    {
     "data": {
      "text/plain": [
       "array([ 0.97503935, -0.60654201,  0.57466439,  0.62509067,  0.60044611])"
      ]
     },
     "execution_count": 142,
     "metadata": {},
     "output_type": "execute_result"
    }
   ],
   "source": [
    "nmf([1,2,3,4,5])"
   ]
  },
  {
   "cell_type": "code",
   "execution_count": 143,
   "metadata": {
    "collapsed": false
   },
   "outputs": [
    {
     "name": "stdout",
     "output_type": "stream",
     "text": [
      "100 loops, best of 3: 5.4 ms per loop\n"
     ]
    }
   ],
   "source": [
    "a = np.random.random(1000)\n",
    "%timeit npf(a)"
   ]
  },
  {
   "cell_type": "code",
   "execution_count": 144,
   "metadata": {
    "collapsed": false
   },
   "outputs": [
    {
     "name": "stdout",
     "output_type": "stream",
     "text": [
      "100 loops, best of 3: 7.61 ms per loop\n"
     ]
    }
   ],
   "source": [
    "%timeit nmf(a)"
   ]
  },
  {
   "cell_type": "code",
   "execution_count": 145,
   "metadata": {
    "collapsed": false
   },
   "outputs": [
    {
     "name": "stdout",
     "output_type": "stream",
     "text": [
      "The slowest run took 5.12 times longer than the fastest. This could mean that an intermediate result is being cached.\n",
      "10000 loops, best of 3: 55.9 µs per loop\n"
     ]
    }
   ],
   "source": [
    "%timeit thf(a)"
   ]
  },
  {
   "cell_type": "code",
   "execution_count": 146,
   "metadata": {
    "collapsed": false
   },
   "outputs": [
    {
     "name": "stdout",
     "output_type": "stream",
     "text": [
      "100 loops, best of 3: 9.42 ms per loop\n"
     ]
    }
   ],
   "source": [
    "%timeit cvf(a)"
   ]
  },
  {
   "cell_type": "markdown",
   "metadata": {},
   "source": [
    "If too simple, performance improve is not so large due to overheads"
   ]
  },
  {
   "cell_type": "code",
   "execution_count": 123,
   "metadata": {
    "collapsed": true
   },
   "outputs": [],
   "source": [
    "f = 2*x + x**2\n",
    "lf  = lambdify(x,f,\"numpy\")\n",
    "npf = np.vectorize(lambdify(x,f,\"numpy\"))\n",
    "thf = theano_function([x], [f], dims={x:1})"
   ]
  },
  {
   "cell_type": "code",
   "execution_count": 124,
   "metadata": {
    "collapsed": false
   },
   "outputs": [
    {
     "name": "stdout",
     "output_type": "stream",
     "text": [
      "1000 loops, best of 3: 392 µs per loop\n"
     ]
    }
   ],
   "source": [
    "a = np.random.random(1000)\n",
    "%timeit npf(a)"
   ]
  },
  {
   "cell_type": "code",
   "execution_count": 125,
   "metadata": {
    "collapsed": false
   },
   "outputs": [
    {
     "name": "stdout",
     "output_type": "stream",
     "text": [
      "The slowest run took 7.67 times longer than the fastest. This could mean that an intermediate result is being cached.\n",
      "100000 loops, best of 3: 12.8 µs per loop\n"
     ]
    }
   ],
   "source": [
    "%timeit thf(a)"
   ]
  },
  {
   "cell_type": "markdown",
   "metadata": {},
   "source": [
    "## Observe that having the analytic solution we can:\n",
    "\n",
    "- compile it to run fast\n",
    "- split the computation into as many tasks as we want\n",
    "\n",
    "but with numerical solutions CANNOT do either since:\n",
    "\n",
    "- `odeint` is a python function\n",
    "- the process is intrinsically sequential. at most we can parallelize the n computations in each time step required for each method.\n"
   ]
  },
  {
   "cell_type": "code",
   "execution_count": null,
   "metadata": {
    "collapsed": true
   },
   "outputs": [],
   "source": []
  }
 ],
 "metadata": {
  "kernelspec": {
   "display_name": "Python 2",
   "language": "python",
   "name": "python2"
  },
  "language_info": {
   "codemirror_mode": {
    "name": "ipython",
    "version": 2
   },
   "file_extension": ".py",
   "mimetype": "text/x-python",
   "name": "python",
   "nbconvert_exporter": "python",
   "pygments_lexer": "ipython2",
   "version": "2.7.11"
  },
  "toc": {
   "toc_cell": false,
   "toc_number_sections": true,
   "toc_threshold": 6,
   "toc_window_display": false
  }
 },
 "nbformat": 4,
 "nbformat_minor": 0
}
