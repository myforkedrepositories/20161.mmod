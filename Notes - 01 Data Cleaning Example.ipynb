{
 "cells": [
  {
   "cell_type": "markdown",
   "metadata": {},
   "source": [
    "# Data cleaning examples"
   ]
  },
  {
   "cell_type": "code",
   "execution_count": null,
   "metadata": {
    "collapsed": true
   },
   "outputs": [],
   "source": [
    "import pandas as pd\n",
    "import numpy as np\n",
    "import matplotlib.pyplot as plt\n",
    "%matplotlib inline"
   ]
  },
  {
   "cell_type": "code",
   "execution_count": null,
   "metadata": {
    "collapsed": false
   },
   "outputs": [],
   "source": [
    "d = pd.read_csv(\"data/ecoli.data\", delimiter=\",\")\n",
    "d.shape"
   ]
  },
  {
   "cell_type": "code",
   "execution_count": null,
   "metadata": {
    "collapsed": false
   },
   "outputs": [],
   "source": [
    "d.head()"
   ]
  },
  {
   "cell_type": "code",
   "execution_count": null,
   "metadata": {
    "collapsed": false
   },
   "outputs": [],
   "source": [
    "d.describe()"
   ]
  },
  {
   "cell_type": "markdown",
   "metadata": {},
   "source": [
    "observe:\n",
    "- columns `gvh` and `aac` are not considered numerically\n",
    "- missing values in `alm1`\n"
   ]
  },
  {
   "cell_type": "markdown",
   "metadata": {},
   "source": [
    "# 1. Fix NULL values in `alm1`\n",
    "\n",
    "check number of null valuesadd up to total number of rows"
   ]
  },
  {
   "cell_type": "code",
   "execution_count": null,
   "metadata": {
    "collapsed": false
   },
   "outputs": [],
   "source": [
    "np.sum(d[\"alm1\"].isnull())"
   ]
  },
  {
   "cell_type": "code",
   "execution_count": null,
   "metadata": {
    "collapsed": false
   },
   "outputs": [],
   "source": [
    "d[d[\"alm1\"].isnull()]"
   ]
  },
  {
   "cell_type": "markdown",
   "metadata": {},
   "source": [
    "## Option 1: remove rows"
   ]
  },
  {
   "cell_type": "code",
   "execution_count": null,
   "metadata": {
    "collapsed": false
   },
   "outputs": [],
   "source": [
    "d = pd.read_csv(\"data/ecoli.data\", delimiter=\",\")\n",
    "d = d.dropna()\n",
    "d.describe()"
   ]
  },
  {
   "cell_type": "code",
   "execution_count": null,
   "metadata": {
    "collapsed": false
   },
   "outputs": [],
   "source": [
    "np.mean(d[\"alm1\"])"
   ]
  },
  {
   "cell_type": "markdown",
   "metadata": {},
   "source": [
    "## Option 2: set NaN's to specific value\n",
    "- zero\n",
    "- the mean of that column\n",
    "- etc."
   ]
  },
  {
   "cell_type": "code",
   "execution_count": null,
   "metadata": {
    "collapsed": false
   },
   "outputs": [],
   "source": [
    "d = pd.read_csv(\"data/ecoli.data\", delimiter=\",\")\n",
    "m = np.mean(d[\"alm1\"])\n",
    "print \"mean is\", m\n",
    "d.loc[d[\"alm1\"].isnull(), \"alm1\"]=m"
   ]
  },
  {
   "cell_type": "code",
   "execution_count": null,
   "metadata": {
    "collapsed": false
   },
   "outputs": [],
   "source": [
    "d.loc[[13,37,58,78]]"
   ]
  },
  {
   "cell_type": "markdown",
   "metadata": {},
   "source": [
    "## Option 3: draw samples from a normal distribution with mean and std of that column"
   ]
  },
  {
   "cell_type": "code",
   "execution_count": null,
   "metadata": {
    "collapsed": false
   },
   "outputs": [],
   "source": [
    "d = pd.read_csv(\"data/ecoli.data\", delimiter=\",\")\n",
    "m,s = np.mean(d[\"alm1\"]), np.std(d[\"alm1\"])\n",
    "print \"mean is\", m, \"stdev is\", s\n",
    "nb_nulls = np.sum(d[\"alm1\"].isnull())\n",
    "d.loc[d[\"alm1\"].isnull(), \"alm1\"] = np.random.normal(loc=m, scale=s, size=nb_nulls)\n"
   ]
  },
  {
   "cell_type": "code",
   "execution_count": null,
   "metadata": {
    "collapsed": false
   },
   "outputs": [],
   "source": [
    "d.loc[[13,37,58,78]]"
   ]
  },
  {
   "cell_type": "markdown",
   "metadata": {},
   "source": [
    "# 2. Understand with `gvh` is not interpreted as numbers\n",
    "\n",
    "     "
   ]
  },
  {
   "cell_type": "code",
   "execution_count": null,
   "metadata": {
    "collapsed": false
   },
   "outputs": [],
   "source": [
    "d = pd.read_csv(\"data/ecoli.data\", delimiter=\",\")\n",
    "for index, row in d.iterrows():\n",
    "    try:\n",
    "        f = float(row[\"gvh\"])\n",
    "    except:\n",
    "        print index"
   ]
  },
  {
   "cell_type": "code",
   "execution_count": null,
   "metadata": {
    "collapsed": false
   },
   "outputs": [],
   "source": [
    "d.loc[[27,78]]"
   ]
  },
  {
   "cell_type": "markdown",
   "metadata": {},
   "source": [
    "decide to drop 27 and repair 78"
   ]
  },
  {
   "cell_type": "code",
   "execution_count": null,
   "metadata": {
    "collapsed": false
   },
   "outputs": [],
   "source": [
    "d = pd.read_csv(\"data/ecoli.data\", delimiter=\",\")\n",
    "d=d.drop(27)\n",
    "d[\"gvh\"] = [float(eval(i)) for i in d[\"gvh\"]]"
   ]
  },
  {
   "cell_type": "code",
   "execution_count": null,
   "metadata": {
    "collapsed": false
   },
   "outputs": [],
   "source": [
    "d.describe()"
   ]
  },
  {
   "cell_type": "markdown",
   "metadata": {},
   "source": [
    "# 4. Similarly with `chg`\n"
   ]
  },
  {
   "cell_type": "code",
   "execution_count": null,
   "metadata": {
    "collapsed": false
   },
   "outputs": [],
   "source": [
    "d = pd.read_csv(\"data/ecoli.data\", delimiter=\",\")\n",
    "for index, row in d.iterrows():\n",
    "    try:\n",
    "        f = float(row[\"chg\"])\n",
    "    except:\n",
    "        print index"
   ]
  },
  {
   "cell_type": "code",
   "execution_count": null,
   "metadata": {
    "collapsed": false
   },
   "outputs": [],
   "source": [
    "d.loc[[87]]"
   ]
  },
  {
   "cell_type": "code",
   "execution_count": null,
   "metadata": {
    "collapsed": true
   },
   "outputs": [],
   "source": [
    "d=d.drop(87)"
   ]
  },
  {
   "cell_type": "markdown",
   "metadata": {},
   "source": [
    "# 3. Putting all together so far"
   ]
  },
  {
   "cell_type": "code",
   "execution_count": null,
   "metadata": {
    "collapsed": false
   },
   "outputs": [],
   "source": [
    "d = pd.read_csv(\"data/ecoli.data\", delimiter=\",\")\n",
    "m,s = np.mean(d[\"alm1\"]), np.std(d[\"alm1\"])\n",
    "nb_nulls = np.sum(d[\"alm1\"].isnull())\n",
    "d.loc[d[\"alm1\"].isnull(), \"alm1\"] = np.random.normal(loc=m, scale=s, size=nb_nulls)\n",
    "d=d.drop([27,87])\n",
    "d[\"gvh\"] = [float(eval(i)) for i in d[\"gvh\"]]\n",
    "d[\"chg\"] = [float(eval(i)) for i in d[\"chg\"]]"
   ]
  },
  {
   "cell_type": "code",
   "execution_count": null,
   "metadata": {
    "collapsed": false
   },
   "outputs": [],
   "source": [
    "d.describe()"
   ]
  },
  {
   "cell_type": "markdown",
   "metadata": {
    "collapsed": true
   },
   "source": [
    "## 4. Inspecting data"
   ]
  },
  {
   "cell_type": "code",
   "execution_count": null,
   "metadata": {
    "collapsed": false
   },
   "outputs": [],
   "source": [
    "from pandas.tools.plotting import scatter_matrix\n",
    "scatter_matrix(d, figsize=(15,15));"
   ]
  },
  {
   "cell_type": "markdown",
   "metadata": {},
   "source": [
    "`chg` and `lib` seem to have outliers. let's inspect their distributions: "
   ]
  },
  {
   "cell_type": "code",
   "execution_count": null,
   "metadata": {
    "collapsed": false
   },
   "outputs": [],
   "source": [
    "for i in np.unique(d[\"chg\"]):\n",
    "    print \"value: %5.1f\"%i, \", data points:\", np.sum(d[\"chg\"]==i)"
   ]
  },
  {
   "cell_type": "code",
   "execution_count": null,
   "metadata": {
    "collapsed": false
   },
   "outputs": [],
   "source": [
    "for i in np.unique(d[\"lib\"]):\n",
    "    print \"value: %5.1f\"%i, \", data points:\", np.sum(d[\"lib\"]==i)"
   ]
  },
  {
   "cell_type": "markdown",
   "metadata": {},
   "source": [
    "we could now judge whether the distributions of these values are ok, or might signal some pathology in the data"
   ]
  },
  {
   "cell_type": "code",
   "execution_count": null,
   "metadata": {
    "collapsed": true
   },
   "outputs": [],
   "source": []
  }
 ],
 "metadata": {
  "kernelspec": {
   "display_name": "Python 2",
   "language": "python",
   "name": "python2"
  },
  "language_info": {
   "codemirror_mode": {
    "name": "ipython",
    "version": 2
   },
   "file_extension": ".py",
   "mimetype": "text/x-python",
   "name": "python",
   "nbconvert_exporter": "python",
   "pygments_lexer": "ipython2",
   "version": "2.7.11"
  }
 },
 "nbformat": 4,
 "nbformat_minor": 0
}
