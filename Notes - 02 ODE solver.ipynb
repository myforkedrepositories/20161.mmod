{
 "cells": [
  {
   "cell_type": "markdown",
   "metadata": {},
   "source": [
    "See [this tutorial](https://minireference.com/static/tutorials/sympy_tutorial.pdf)"
   ]
  },
  {
   "cell_type": "code",
   "execution_count": 13,
   "metadata": {
    "collapsed": false
   },
   "outputs": [
    {
     "name": "stdout",
     "output_type": "stream",
     "text": [
      "Exception reporting mode: Context\n",
      "Doctest mode is: OFF\n"
     ]
    }
   ],
   "source": [
    "%doctest_mode\n",
    "from sympy import *\n",
    "import numpy as np\n",
    "import matplotlib.pyplot as plt\n",
    "from sklearn.linear_model import LinearRegression\n",
    "%matplotlib inline\n",
    "init_printing(use_latex=True)"
   ]
  },
  {
   "cell_type": "markdown",
   "metadata": {},
   "source": [
    "# Simple example"
   ]
  },
  {
   "cell_type": "markdown",
   "metadata": {},
   "source": [
    "## Pose the differential equation\n"
   ]
  },
  {
   "cell_type": "code",
   "execution_count": 274,
   "metadata": {
    "collapsed": false
   },
   "outputs": [],
   "source": [
    "x, t, k, C1,= symbols('x t k C1')\n",
    "Y = symbols('Y', cls=Function)"
   ]
  },
  {
   "cell_type": "code",
   "execution_count": 277,
   "metadata": {
    "collapsed": false
   },
   "outputs": [
    {
     "data": {
      "image/png": "[encoded data removed]",
      "text/latex": [
       "$$t + Y{\\left (t \\right )}$$"
      ],
      "text/plain": [
       "t + Y(t)"
      ]
     },
     "execution_count": 277,
     "metadata": {},
     "output_type": "execute_result"
    }
   ],
   "source": [
    "dydt = Y(t)+t\n",
    "dydt            "
   ]
  },
  {
   "cell_type": "markdown",
   "metadata": {},
   "source": [
    "## Solve the differential equation"
   ]
  },
  {
   "cell_type": "code",
   "execution_count": 278,
   "metadata": {
    "collapsed": false
   },
   "outputs": [
    {
     "data": {
      "image/png": "[encoded data removed]",
      "text/latex": [
       "$$Y{\\left (t \\right )} = \\left(C_{1} + \\left(- t - 1\\right) e^{- t}\\right) e^{t}$$"
      ],
      "text/plain": [
       "       ⎛               -t⎞  t\n",
       "Y(t) = ⎝C₁ + (-t - 1)⋅ℯ  ⎠⋅ℯ "
      ]
     },
     "execution_count": 278,
     "metadata": {},
     "output_type": "execute_result"
    }
   ],
   "source": [
    "yt = dsolve(Eq(Y(t).diff(t) , dydt), Y(t))\n",
    "yt"
   ]
  },
  {
   "cell_type": "markdown",
   "metadata": {},
   "source": [
    "## Check the solution\n",
    "\n",
    "substituting the solution into the expresion for $dy/dt$ must equal to the derivative of the solution"
   ]
  },
  {
   "cell_type": "code",
   "execution_count": 187,
   "metadata": {
    "collapsed": false
   },
   "outputs": [
    {
     "data": {
      "image/png": "[encoded data removed]",
      "text/latex": [
       "$$0$$"
      ],
      "text/plain": [
       "0"
      ]
     },
     "execution_count": 187,
     "metadata": {},
     "output_type": "execute_result"
    }
   ],
   "source": [
    "simplify(dydt.subs(Y(t), yt.rhs)-diff(yt.rhs, t))"
   ]
  },
  {
   "cell_type": "markdown",
   "metadata": {},
   "source": [
    "## Set initial conditions and solve for constants\n",
    "\n",
    "- $Y(0)=2.$\n",
    "- Solve for $C1$ "
   ]
  },
  {
   "cell_type": "code",
   "execution_count": 188,
   "metadata": {
    "collapsed": false
   },
   "outputs": [
    {
     "data": {
      "image/png": "[encoded data removed]",
      "text/latex": [
       "$$3.0$$"
      ],
      "text/plain": [
       "3.00000000000000"
      ]
     },
     "execution_count": 188,
     "metadata": {},
     "output_type": "execute_result"
    }
   ],
   "source": [
    "eq1 = Eq(yt.rhs.subs({ t:0}).evalf(), 2.)\n",
    "sol = solve([eq1], [C1])\n",
    "C1_val = sol[C1]\n",
    "C1_val"
   ]
  },
  {
   "cell_type": "markdown",
   "metadata": {},
   "source": [
    "## Define evaluable function and check initial conditions hold"
   ]
  },
  {
   "cell_type": "code",
   "execution_count": 189,
   "metadata": {
    "collapsed": false
   },
   "outputs": [],
   "source": [
    "fY = lambda t_val: N(yt.rhs.subs({C1: C1_val, t: t_val }))"
   ]
  },
  {
   "cell_type": "code",
   "execution_count": 190,
   "metadata": {
    "collapsed": false
   },
   "outputs": [
    {
     "data": {
      "image/png": "[encoded data removed]",
      "text/latex": [
       "$$\\left ( 2.0, \\quad 8.06435142544841 \\cdot 10^{43}, \\quad 2.16779213043772 \\cdot 10^{87}\\right )$$"
      ],
      "text/plain": [
       "(2.0, 8.06435142544841e+43, 2.16779213043772e+87)"
      ]
     },
     "execution_count": 190,
     "metadata": {},
     "output_type": "execute_result"
    }
   ],
   "source": [
    "fY(0), fY(100), fY(200)"
   ]
  },
  {
   "cell_type": "code",
   "execution_count": 191,
   "metadata": {
    "collapsed": false,
    "scrolled": true
   },
   "outputs": [
    {
     "data": {
      "text/plain": [
       "[<matplotlib.lines.Line2D at 0x1165c5490>]"
      ]
     },
     "execution_count": 191,
     "metadata": {},
     "output_type": "execute_result"
    },
    {
     "data": {
      "image/png": "[encoded data removed]",
      "text/plain": [
       "<matplotlib.figure.Figure at 0x11672a650>"
      ]
     },
     "metadata": {},
     "output_type": "display_data"
    }
   ],
   "source": [
    "t_vals = np.linspace(0.1,5,100)\n",
    "plt.plot(t_vals, [fP(i) for i in t_vals])"
   ]
  },
  {
   "cell_type": "code",
   "execution_count": null,
   "metadata": {
    "collapsed": true
   },
   "outputs": [],
   "source": []
  },
  {
   "cell_type": "markdown",
   "metadata": {},
   "source": [
    "# US Census Data 1790-2000\n",
    "\n",
    "Based on EdX [Introduction to Differential Equations](https://courses.edx.org/courses/course-v1%3ABUx%2BMath226.1x%2B1T2016/)\n",
    "\n",
    "Given a population $p$ at a certain time, assumes the relative growth rate decreases linearly with $p$. The relative growth rate is defined as $\\delta p / p = \\frac{dp}{dt} \\frac{1}{p}$\n",
    "\n",
    "\n",
    "<img src=\"imgs/difflr.jpg\"/>\n",
    "\n",
    "\n",
    "this is, \n",
    "\n",
    "$$\\frac{dp}{dt} = k p (1-\\frac{p}{N})$$\n",
    "\n",
    "\n",
    "meaning that $\\frac{1}{p}\\frac{dp}{dt}$ is linear in $p$"
   ]
  },
  {
   "cell_type": "markdown",
   "metadata": {},
   "source": [
    "## Load data"
   ]
  },
  {
   "cell_type": "code",
   "execution_count": 19,
   "metadata": {
    "collapsed": false
   },
   "outputs": [
    {
     "data": {
      "text/plain": [
       "<matplotlib.collections.PathCollection at 0x11abf1b50>"
      ]
     },
     "execution_count": 19,
     "metadata": {},
     "output_type": "execute_result"
    },
    {
     "data": {
      "image/png": "[encoded data removed]",
      "text/plain": [
       "<matplotlib.figure.Figure at 0x11ab6b490>"
      ]
     },
     "metadata": {},
     "output_type": "display_data"
    }
   ],
   "source": [
    "import pandas as pd\n",
    "uscensus = pd.read_csv(\"data/uspop.csv\")\n",
    "uscensus[\"population\"] = uscensus[\"population\"]/1e6\n",
    "%matplotlib inline\n",
    "plt.scatter(uscensus[\"year\"], uscensus[\"population\"])"
   ]
  },
  {
   "cell_type": "markdown",
   "metadata": {
    "collapsed": true
   },
   "source": [
    "## Estimate $k$ and $N$ from data"
   ]
  },
  {
   "cell_type": "code",
   "execution_count": 100,
   "metadata": {
    "collapsed": false
   },
   "outputs": [
    {
     "data": {
      "text/plain": [
       "<matplotlib.text.Text at 0x11f120a50>"
      ]
     },
     "execution_count": 100,
     "metadata": {},
     "output_type": "execute_result"
    },
    {
     "data": {
      "image/png": "[encoded data removed]",
      "text/plain": [
       "<matplotlib.figure.Figure at 0x11f1ace90>"
      ]
     },
     "metadata": {},
     "output_type": "display_data"
    }
   ],
   "source": [
    "pop = uscensus[\"population\"].as_matrix()\n",
    "uscensus[\"relgrowth\"] = [None]+list((pop[2:]-pop[:-2])/20/pop[1:-1])+[None]\n",
    "plt.scatter(uscensus[\"population\"], uscensus[\"relgrowth\"])\n",
    "plt.xlabel(\"population\")\n",
    "plt.ylabel(\"relative rate of growth = $dp/dt$ x $1/p$\")"
   ]
  },
  {
   "cell_type": "code",
   "execution_count": 21,
   "metadata": {
    "collapsed": false
   },
   "outputs": [],
   "source": [
    "X = uscensus[\"population\"].as_matrix()[1:-1].reshape((-1,1))\n",
    "y = uscensus[\"relgrowth\"].as_matrix()[1:-1]"
   ]
  },
  {
   "cell_type": "code",
   "execution_count": 119,
   "metadata": {
    "collapsed": false
   },
   "outputs": [
    {
     "name": "stdout",
     "output_type": "stream",
     "text": [
      "N 329.688289793\n",
      "k 0.0286629770895\n"
     ]
    }
   ],
   "source": [
    "lr = LinearRegression().fit(X,y)\n",
    "kN = lr.coef_ [0]\n",
    "k  = lr.intercept_\n",
    "N  = -k/kN\n",
    "print \"N\", N\n",
    "print \"k\", k"
   ]
  },
  {
   "cell_type": "code",
   "execution_count": 120,
   "metadata": {
    "collapsed": false
   },
   "outputs": [
    {
     "data": {
      "text/plain": [
       "[<matplotlib.lines.Line2D at 0x120057090>]"
      ]
     },
     "execution_count": 120,
     "metadata": {},
     "output_type": "execute_result"
    },
    {
     "data": {
      "image/png": "[encoded data removed]",
      "text/plain": [
       "<matplotlib.figure.Figure at 0x120057c10>"
      ]
     },
     "metadata": {},
     "output_type": "display_data"
    }
   ],
   "source": [
    "plt.scatter(uscensus[\"population\"], uscensus[\"relgrowth\"])\n",
    "x = np.linspace(np.min(X), np.max(X), 100)\n",
    "plt.plot(x, k+kN*x)"
   ]
  },
  {
   "cell_type": "code",
   "execution_count": 121,
   "metadata": {
    "collapsed": false
   },
   "outputs": [],
   "source": [
    "growth_f = lambda p: k*p*(1-p/N)"
   ]
  },
  {
   "cell_type": "code",
   "execution_count": 123,
   "metadata": {
    "collapsed": false,
    "scrolled": true
   },
   "outputs": [
    {
     "data": {
      "text/plain": [
       "<matplotlib.text.Text at 0x120f08f50>"
      ]
     },
     "execution_count": 123,
     "metadata": {},
     "output_type": "execute_result"
    },
    {
     "data": {
      "image/png": "[encoded data removed]",
      "text/plain": [
       "<matplotlib.figure.Figure at 0x120941550>"
      ]
     },
     "metadata": {},
     "output_type": "display_data"
    }
   ],
   "source": [
    "x=np.linspace(-10, N+10, 100)\n",
    "plt.plot(x, growth_f(x))\n",
    "\n",
    "plt.plot([-10, N+10], [0,0], color=\"black\", alpha=0.5)\n",
    "plt.xlabel(\"population\")\n",
    "plt.ylabel(\"rate of growth\")"
   ]
  },
  {
   "cell_type": "code",
   "execution_count": 128,
   "metadata": {
    "collapsed": false
   },
   "outputs": [],
   "source": [
    "t, C1, C2, k_sym, N_sym= symbols(\"t C1 C2 k N\")\n",
    "P = symbols('P', cls=Function)\n"
   ]
  },
  {
   "cell_type": "code",
   "execution_count": 129,
   "metadata": {
    "collapsed": false
   },
   "outputs": [
    {
     "data": {
      "text/plain": [
       "Derivative(P(t), t) == k*(1 - P(t)/N)*P(t)"
      ]
     },
     "execution_count": 129,
     "metadata": {},
     "output_type": "execute_result"
    }
   ],
   "source": [
    "diffeq = Eq(P(t).diff(t) , k_sym*P(t)*(1-P(t)/N_sym))\n",
    "diffeq"
   ]
  },
  {
   "cell_type": "code",
   "execution_count": 152,
   "metadata": {
    "collapsed": false
   },
   "outputs": [
    {
     "data": {
      "text/plain": [
       "P(t) == C1*exp(k*t)/(C2*exp(k*t) - 1)"
      ]
     },
     "execution_count": 152,
     "metadata": {},
     "output_type": "execute_result"
    }
   ],
   "source": [
    "pt = dsolve(diffeq, P(t))\n",
    "pt"
   ]
  },
  {
   "cell_type": "code",
   "execution_count": 153,
   "metadata": {
    "collapsed": false
   },
   "outputs": [],
   "source": [
    "t0 = 0\n",
    "p0 = uscensus[\"population\"].iloc[0]\n",
    "t1 = uscensus[\"year\"].iloc[1] -uscensus[\"year\"].iloc[0]\n",
    "p1 = uscensus[\"population\"].iloc[1]\n",
    "eq1 = Eq(pt.rhs.subs({ t: t0, k_sym:k, N_sym: N}).evalf(), p0)\n",
    "eq2 = Eq(pt.rhs.subs({ t: t1, k_sym:k, N_sym: N}).evalf(), p1)"
   ]
  },
  {
   "cell_type": "code",
   "execution_count": 156,
   "metadata": {
    "collapsed": false
   },
   "outputs": [
    {
     "data": {
      "text/plain": [
       "{C1: -3.76871441029036, C2: 0.0408477598088681}"
      ]
     },
     "execution_count": 156,
     "metadata": {},
     "output_type": "execute_result"
    }
   ],
   "source": [
    "sol = solve([eq1, eq2], [C1, C2])\n",
    "sol"
   ]
  },
  {
   "cell_type": "code",
   "execution_count": 162,
   "metadata": {
    "collapsed": false
   },
   "outputs": [],
   "source": [
    "ptf = lambda x : pt.rhs.subs({k_sym: k, C1: sol[C1], C2: sol[C2], t: x}).evalf()\n"
   ]
  },
  {
   "cell_type": "code",
   "execution_count": 163,
   "metadata": {
    "collapsed": false
   },
   "outputs": [
    {
     "data": {
      "text/plain": [
       "[<matplotlib.lines.Line2D at 0x121e97890>]"
      ]
     },
     "execution_count": 163,
     "metadata": {},
     "output_type": "execute_result"
    },
    {
     "data": {
      "image/png": "[encoded data removed]",
      "text/plain": [
       "<matplotlib.figure.Figure at 0x121e3bfd0>"
      ]
     },
     "metadata": {},
     "output_type": "display_data"
    }
   ],
   "source": [
    "x = np.linspace(0,260)\n",
    "plt.plot(x, [ptf(i) for i in x])"
   ]
  },
  {
   "cell_type": "code",
   "execution_count": 48,
   "metadata": {
    "collapsed": false
   },
   "outputs": [
    {
     "data": {
      "text/plain": [
       "-8.693962745091916e-05"
      ]
     },
     "execution_count": 48,
     "metadata": {},
     "output_type": "execute_result"
    }
   ],
   "source": [
    "-0.00303316808925137*0.0286629770895345"
   ]
  },
  {
   "cell_type": "code",
   "execution_count": 72,
   "metadata": {
    "collapsed": false
   },
   "outputs": [
    {
     "data": {
      "text/plain": [
       "0.0286629770895345*(-0.00303316808925137*P(t) + 1.0)*P(t)"
      ]
     },
     "execution_count": 72,
     "metadata": {},
     "output_type": "execute_result"
    }
   ],
   "source": [
    "growth.subs({k: k_val, N: N_val, P(0): 0}).evalf()"
   ]
  },
  {
   "cell_type": "markdown",
   "metadata": {
    "collapsed": false,
    "scrolled": true
   },
   "source": [
    "# Euler's method\n"
   ]
  },
  {
   "cell_type": "code",
   "execution_count": 315,
   "metadata": {
    "collapsed": false,
    "scrolled": false
   },
   "outputs": [
    {
     "name": "stdout",
     "output_type": "stream",
     "text": [
      "    t     y     dydt\n"
     ]
    }
   ],
   "source": [
    "dydt = lambda y,t: 9.8 - .18/54 * y**2\n",
    "t = [0.]\n",
    "y = [0.]\n",
    "dt = .1\n",
    "\n",
    "print \"    t     y     dydt\"\n",
    "for i in range(200):\n",
    "#    print \"%6.3f\"%t[-1], \"%6.3f\"%y[-1], \"%6.3f\"%dydt(y[-1], t[-1])\n",
    "    y.append(y[-1]+dydt(y[-1], t[-1])*dt)\n",
    "    t.append(t[-1]+dt)"
   ]
  },
  {
   "cell_type": "code",
   "execution_count": 310,
   "metadata": {
    "collapsed": false
   },
   "outputs": [
    {
     "data": {
      "text/plain": [
       "[<matplotlib.lines.Line2D at 0x118359350>]"
      ]
     },
     "execution_count": 310,
     "metadata": {},
     "output_type": "execute_result"
    },
    {
     "data": {
      "image/png": "[encoded data removed]",
      "text/plain": [
       "<matplotlib.figure.Figure at 0x118226290>"
      ]
     },
     "metadata": {},
     "output_type": "display_data"
    }
   ],
   "source": [
    "plt.plot(t,y)"
   ]
  },
  {
   "cell_type": "code",
   "execution_count": 312,
   "metadata": {
    "collapsed": false
   },
   "outputs": [
    {
     "name": "stdout",
     "output_type": "stream",
     "text": [
      "54.1235882163\n"
     ]
    }
   ],
   "source": [
    "print y[-10]"
   ]
  },
  {
   "cell_type": "code",
   "execution_count": 313,
   "metadata": {
    "collapsed": false
   },
   "outputs": [
    {
     "data": {
      "image/png": "[encoded data removed]",
      "text/latex": [
       "$$51.4174088055$$"
      ],
      "text/plain": [
       "51.4174088055"
      ]
     },
     "execution_count": 313,
     "metadata": {},
     "output_type": "execute_result"
    }
   ],
   "source": [
    "54.1235882163*.95"
   ]
  },
  {
   "cell_type": "code",
   "execution_count": 317,
   "metadata": {
    "collapsed": false
   },
   "outputs": [
    {
     "data": {
      "image/png": "[encoded data removed]",
      "text/latex": [
       "$$Y{\\left (t \\right )} = \\frac{t^{3}}{3} \\left(60 C_{1} + 1\\right) + C_{1} + C_{1} t + \\frac{C_{1} t^{4}}{2} \\left(140 C_{1} + 1\\right) + \\frac{C_{1} t^{5}}{5} \\left(639 C_{1} + 1\\right) + 6 C_{1}^{5} t^{2} + \\mathcal{O}\\left(t^{6}\\right)$$"
      ],
      "text/plain": [
       "        3                               4                    5                \n",
       "       t ⋅(60⋅C₁ + 1)               C₁⋅t ⋅(140⋅C₁ + 1)   C₁⋅t ⋅(639⋅C₁ + 1)   \n",
       "Y(t) = ────────────── + C₁ + C₁⋅t + ────────────────── + ────────────────── + \n",
       "             3                              2                    5            \n",
       "\n",
       "                \n",
       "    5  2    ⎛ 6⎞\n",
       "6⋅C₁ ⋅t  + O⎝t ⎠\n",
       "                "
      ]
     },
     "execution_count": 317,
     "metadata": {},
     "output_type": "execute_result"
    }
   ],
   "source": [
    "y, t, C1,= symbols('y t C1')\n",
    "Y = symbols('Y', cls=Function)\n",
    "dydt = 2*Y(t)**3+t**2\n",
    "yt = dsolve(Eq(Y(t).diff(t) , dydt), Y(t))\n",
    "yt\n"
   ]
  },
  {
   "cell_type": "code",
   "execution_count": 273,
   "metadata": {
    "collapsed": false
   },
   "outputs": [
    {
     "data": {
      "image/png": "[encoded data removed]",
      "text/latex": [
       "$$C_{1}$$"
      ],
      "text/plain": [
       "C₁"
      ]
     },
     "execution_count": 273,
     "metadata": {},
     "output_type": "execute_result"
    }
   ],
   "source": [
    "yt.rhs"
   ]
  },
  {
   "cell_type": "code",
   "execution_count": 280,
   "metadata": {
    "collapsed": false
   },
   "outputs": [
    {
     "data": {
      "image/png": "[encoded data removed]",
      "text/latex": [
       "$$C_{1} = t + \\log{\\left (Y{\\left (t \\right )} - 1 \\right )} - \\log{\\left (Y{\\left (t \\right )} \\right )} + \\frac{1}{Y{\\left (t \\right )}}$$"
      ],
      "text/plain": [
       "                                      1  \n",
       "C₁ = t + log(Y(t) - 1) - log(Y(t)) + ────\n",
       "                                     Y(t)"
      ]
     },
     "execution_count": 280,
     "metadata": {},
     "output_type": "execute_result"
    }
   ],
   "source": [
    "simplify(yt)"
   ]
  },
  {
   "cell_type": "code",
   "execution_count": 281,
   "metadata": {
    "collapsed": false
   },
   "outputs": [
    {
     "data": {
      "image/png": "[encoded data removed]",
      "text/latex": [
       "$$6.38629436111989 + i \\pi = C_{1}$$"
      ],
      "text/plain": [
       "6.38629436111989 + ⅈ⋅π = C₁"
      ]
     },
     "execution_count": 281,
     "metadata": {},
     "output_type": "execute_result"
    }
   ],
   "source": [
    "yt.subs({Y(t): .2, t:0.})"
   ]
  },
  {
   "cell_type": "code",
   "execution_count": 341,
   "metadata": {
    "collapsed": false
   },
   "outputs": [
    {
     "data": {
      "image/png": "[encoded data removed]",
      "text/latex": [
       "$$1.5 y^{0.666666666666667}$$"
      ],
      "text/plain": [
       "     0.666666666666667\n",
       "1.5⋅y                 "
      ]
     },
     "execution_count": 341,
     "metadata": {},
     "output_type": "execute_result"
    }
   ],
   "source": [
    "integrate(1/y**(1./3))"
   ]
  },
  {
   "cell_type": "code",
   "execution_count": 374,
   "metadata": {
    "collapsed": false
   },
   "outputs": [
    {
     "name": "stdout",
     "output_type": "stream",
     "text": [
      "(Y(t) - 3)*(Y(t) - 1)*Y(t)\n",
      "[Eq(Y(t), (-C1*((C1*sqrt(-exp(12*C1 + 6*t)/(exp(18*C1) - exp(18*t) + 3*exp(C1 + 12*t) - 3*exp(12*C1 + 6*t))) - C1 - sqrt(-exp(12*C1 + 6*t)/(exp(18*C1) - exp(18*t) + 3*exp(C1 + 12*t) - 3*exp(12*C1 + 6*t)))*exp(6*t))/(C1 - exp(6*t)))**(1/3) + C1 - C1/((C1*sqrt(-exp(12*C1 + 6*t)/(exp(18*C1) - exp(18*t) + 3*exp(C1 + 12*t) - 3*exp(12*C1 + 6*t))) - C1 - sqrt(-exp(12*C1 + 6*t)/(exp(18*C1) - exp(18*t) + 3*exp(C1 + 12*t) - 3*exp(12*C1 + 6*t)))*exp(6*t))/(C1 - exp(6*t)))**(1/3) + ((C1*sqrt(-exp(12*C1 + 6*t)/(exp(18*C1) - exp(18*t) + 3*exp(C1 + 12*t) - 3*exp(12*C1 + 6*t))) - C1 - sqrt(-exp(12*C1 + 6*t)/(exp(18*C1) - exp(18*t) + 3*exp(C1 + 12*t) - 3*exp(12*C1 + 6*t)))*exp(6*t))/(C1 - exp(6*t)))**(1/3)*exp(6*t) - exp(6*t))/(C1 - exp(6*t))), Eq(Y(t), (-C1*((C1*sqrt(-exp(12*C1 + 6*t)/(exp(18*C1) - exp(18*t) + 3*exp(C1 + 12*t) - 3*exp(12*C1 + 6*t))) - C1 - sqrt(-exp(12*C1 + 6*t)/(exp(18*C1) - exp(18*t) + 3*exp(C1 + 12*t) - 3*exp(12*C1 + 6*t)))*exp(6*t))/(C1 - exp(6*t)))**(1/3) - sqrt(3)*I*C1*((C1*sqrt(-exp(12*C1 + 6*t)/(exp(18*C1) - exp(18*t) + 3*exp(C1 + 12*t) - 3*exp(12*C1 + 6*t))) - C1 - sqrt(-exp(12*C1 + 6*t)/(exp(18*C1) - exp(18*t) + 3*exp(C1 + 12*t) - 3*exp(12*C1 + 6*t)))*exp(6*t))/(C1 - exp(6*t)))**(1/3) + C1 - sqrt(3)*I*C1 + 2*C1/((C1*sqrt(-exp(12*C1 + 6*t)/(exp(18*C1) - exp(18*t) + 3*exp(C1 + 12*t) - 3*exp(12*C1 + 6*t))) - C1 - sqrt(-exp(12*C1 + 6*t)/(exp(18*C1) - exp(18*t) + 3*exp(C1 + 12*t) - 3*exp(12*C1 + 6*t)))*exp(6*t))/(C1 - exp(6*t)))**(1/3) + ((C1*sqrt(-exp(12*C1 + 6*t)/(exp(18*C1) - exp(18*t) + 3*exp(C1 + 12*t) - 3*exp(12*C1 + 6*t))) - C1 - sqrt(-exp(12*C1 + 6*t)/(exp(18*C1) - exp(18*t) + 3*exp(C1 + 12*t) - 3*exp(12*C1 + 6*t)))*exp(6*t))/(C1 - exp(6*t)))**(1/3)*exp(6*t) + sqrt(3)*I*((C1*sqrt(-exp(12*C1 + 6*t)/(exp(18*C1) - exp(18*t) + 3*exp(C1 + 12*t) - 3*exp(12*C1 + 6*t))) - C1 - sqrt(-exp(12*C1 + 6*t)/(exp(18*C1) - exp(18*t) + 3*exp(C1 + 12*t) - 3*exp(12*C1 + 6*t)))*exp(6*t))/(C1 - exp(6*t)))**(1/3)*exp(6*t) - exp(6*t) + sqrt(3)*I*exp(6*t))/(C1 - sqrt(3)*I*C1 - exp(6*t) + sqrt(3)*I*exp(6*t))), Eq(Y(t), (-C1*((C1*sqrt(-exp(12*C1 + 6*t)/(exp(18*C1) - exp(18*t) + 3*exp(C1 + 12*t) - 3*exp(12*C1 + 6*t))) - C1 - sqrt(-exp(12*C1 + 6*t)/(exp(18*C1) - exp(18*t) + 3*exp(C1 + 12*t) - 3*exp(12*C1 + 6*t)))*exp(6*t))/(C1 - exp(6*t)))**(1/3) + sqrt(3)*I*C1*((C1*sqrt(-exp(12*C1 + 6*t)/(exp(18*C1) - exp(18*t) + 3*exp(C1 + 12*t) - 3*exp(12*C1 + 6*t))) - C1 - sqrt(-exp(12*C1 + 6*t)/(exp(18*C1) - exp(18*t) + 3*exp(C1 + 12*t) - 3*exp(12*C1 + 6*t)))*exp(6*t))/(C1 - exp(6*t)))**(1/3) + C1 + sqrt(3)*I*C1 + 2*C1/((C1*sqrt(-exp(12*C1 + 6*t)/(exp(18*C1) - exp(18*t) + 3*exp(C1 + 12*t) - 3*exp(12*C1 + 6*t))) - C1 - sqrt(-exp(12*C1 + 6*t)/(exp(18*C1) - exp(18*t) + 3*exp(C1 + 12*t) - 3*exp(12*C1 + 6*t)))*exp(6*t))/(C1 - exp(6*t)))**(1/3) + ((C1*sqrt(-exp(12*C1 + 6*t)/(exp(18*C1) - exp(18*t) + 3*exp(C1 + 12*t) - 3*exp(12*C1 + 6*t))) - C1 - sqrt(-exp(12*C1 + 6*t)/(exp(18*C1) - exp(18*t) + 3*exp(C1 + 12*t) - 3*exp(12*C1 + 6*t)))*exp(6*t))/(C1 - exp(6*t)))**(1/3)*exp(6*t) - sqrt(3)*I*((C1*sqrt(-exp(12*C1 + 6*t)/(exp(18*C1) - exp(18*t) + 3*exp(C1 + 12*t) - 3*exp(12*C1 + 6*t))) - C1 - sqrt(-exp(12*C1 + 6*t)/(exp(18*C1) - exp(18*t) + 3*exp(C1 + 12*t) - 3*exp(12*C1 + 6*t)))*exp(6*t))/(C1 - exp(6*t)))**(1/3)*exp(6*t) - exp(6*t) - sqrt(3)*I*exp(6*t))/(C1 + sqrt(3)*I*C1 - exp(6*t) - sqrt(3)*I*exp(6*t)))]\n"
     ]
    },
    {
     "ename": "AttributeError",
     "evalue": "'list' object has no attribute 'rhs'",
     "output_type": "error",
     "traceback": [
      "\u001b[0;31m---------------------------------------------------------------------------\u001b[0m",
      "\u001b[0;31mAttributeError\u001b[0m                            Traceback (most recent call last)",
      "\u001b[0;32m<ipython-input-374-97bdd546e52b>\u001b[0m in \u001b[0;36m<module>\u001b[0;34m()\u001b[0m\n\u001b[1;32m     11\u001b[0m \u001b[0;31m## Check the solution\u001b[0m\u001b[0;34m\u001b[0m\u001b[0;34m\u001b[0m\u001b[0m\n\u001b[1;32m     12\u001b[0m \u001b[0;34m\u001b[0m\u001b[0m\n\u001b[0;32m---> 13\u001b[0;31m \u001b[0;32mprint\u001b[0m \u001b[0msimplify\u001b[0m\u001b[0;34m(\u001b[0m\u001b[0mdydt\u001b[0m\u001b[0;34m.\u001b[0m\u001b[0msubs\u001b[0m\u001b[0;34m(\u001b[0m\u001b[0mY\u001b[0m\u001b[0;34m(\u001b[0m\u001b[0mt\u001b[0m\u001b[0;34m)\u001b[0m\u001b[0;34m,\u001b[0m \u001b[0myt\u001b[0m\u001b[0;34m.\u001b[0m\u001b[0mrhs\u001b[0m\u001b[0;34m)\u001b[0m\u001b[0;34m-\u001b[0m\u001b[0mdiff\u001b[0m\u001b[0;34m(\u001b[0m\u001b[0myt\u001b[0m\u001b[0;34m.\u001b[0m\u001b[0mrhs\u001b[0m\u001b[0;34m,\u001b[0m \u001b[0mt\u001b[0m\u001b[0;34m)\u001b[0m\u001b[0;34m)\u001b[0m\u001b[0;34m\u001b[0m\u001b[0m\n\u001b[0m\u001b[1;32m     14\u001b[0m \u001b[0meq1\u001b[0m \u001b[0;34m=\u001b[0m \u001b[0mEq\u001b[0m\u001b[0;34m(\u001b[0m\u001b[0myt\u001b[0m\u001b[0;34m.\u001b[0m\u001b[0mrhs\u001b[0m\u001b[0;34m.\u001b[0m\u001b[0msubs\u001b[0m\u001b[0;34m(\u001b[0m\u001b[0;34m{\u001b[0m \u001b[0mt\u001b[0m\u001b[0;34m:\u001b[0m\u001b[0;36m0\u001b[0m\u001b[0;34m}\u001b[0m\u001b[0;34m)\u001b[0m\u001b[0;34m.\u001b[0m\u001b[0mevalf\u001b[0m\u001b[0;34m(\u001b[0m\u001b[0;34m)\u001b[0m\u001b[0;34m,\u001b[0m \u001b[0;36m1.\u001b[0m\u001b[0;34m)\u001b[0m\u001b[0;34m\u001b[0m\u001b[0m\n\u001b[1;32m     15\u001b[0m \u001b[0msol\u001b[0m \u001b[0;34m=\u001b[0m \u001b[0msolve\u001b[0m\u001b[0;34m(\u001b[0m\u001b[0;34m[\u001b[0m\u001b[0meq1\u001b[0m\u001b[0;34m]\u001b[0m\u001b[0;34m,\u001b[0m \u001b[0;34m[\u001b[0m\u001b[0mC1\u001b[0m\u001b[0;34m]\u001b[0m\u001b[0;34m)\u001b[0m\u001b[0;34m\u001b[0m\u001b[0m\n",
      "\u001b[0;31mAttributeError\u001b[0m: 'list' object has no attribute 'rhs'"
     ]
    }
   ],
   "source": [
    "## Pose the differential equation\n",
    "\n",
    "x, t, k, C1,= symbols('x t k C1')\n",
    "Y = symbols('Y', cls=Function)\n",
    "dydt = Y(t)*(Y(t)-1)*(Y(t)-3)\n",
    "print dydt            \n",
    "## Solve the differential equation\n",
    "yt = dsolve(Eq(Y(t).diff(t) , dydt), Y(t))\n",
    "print yt\n",
    "#yt = yt[1]\n",
    "## Check the solution\n",
    "\n",
    "print simplify(dydt.subs(Y(t), yt.rhs)-diff(yt.rhs, t))\n",
    "eq1 = Eq(yt.rhs.subs({ t:0}).evalf(), 1.)\n",
    "sol = solve([eq1], [C1])\n",
    "print sol\n",
    "C1_val = sol[0][0]\n",
    "C1_val"
   ]
  },
  {
   "cell_type": "code",
   "execution_count": 346,
   "metadata": {
    "collapsed": false
   },
   "outputs": [
    {
     "data": {
      "image/png": "[encoded data removed]",
      "text/latex": [
       "$$\\frac{1.0}{y^{0.333333333333333}}$$"
      ],
      "text/plain": [
       "     -0.333333333333333\n",
       "1.0⋅y                  "
      ]
     },
     "execution_count": 346,
     "metadata": {},
     "output_type": "execute_result"
    }
   ],
   "source": [
    "diff ((y**(2./3)*1.5))"
   ]
  },
  {
   "cell_type": "code",
   "execution_count": 358,
   "metadata": {
    "collapsed": false
   },
   "outputs": [
    {
     "data": {
      "image/png": "[encoded data removed]",
      "text/latex": [
       "$$1.0 \\left(C_{1} - 0.333333333333333 \\cos{\\left (2 t \\right )}\\right)^{1.5}$$"
      ],
      "text/plain": [
       "                                     1.5\n",
       "1.0⋅(C₁ - 0.333333333333333⋅cos(2⋅t))   "
      ]
     },
     "execution_count": 358,
     "metadata": {},
     "output_type": "execute_result"
    }
   ],
   "source": [
    "yt.rhs"
   ]
  },
  {
   "cell_type": "code",
   "execution_count": 360,
   "metadata": {
    "collapsed": false
   },
   "outputs": [
    {
     "data": {
      "image/png": "[encoded data removed]",
      "text/latex": [
       "$$1.0 \\left(k - \\frac{1}{3} \\cos{\\left (2 t \\right )}\\right)^{0.5} \\sin{\\left (2 t \\right )}$$"
      ],
      "text/plain": [
       "                  0.5         \n",
       "    ⎛    cos(2⋅t)⎞            \n",
       "1.0⋅⎜k - ────────⎟   ⋅sin(2⋅t)\n",
       "    ⎝       3    ⎠            "
      ]
     },
     "execution_count": 360,
     "metadata": {},
     "output_type": "execute_result"
    }
   ],
   "source": [
    "diff((k-cos(2*t)/3)**1.5, t)"
   ]
  },
  {
   "cell_type": "code",
   "execution_count": 362,
   "metadata": {
    "collapsed": false
   },
   "outputs": [
    {
     "data": {
      "image/png": "[encoded data removed]",
      "text/latex": [
       "$$- t^{4} + 2 t^{2} y - t^{2} + 2 t - y^{2} + y$$"
      ],
      "text/plain": [
       "   4      2      2          2    \n",
       "- t  + 2⋅t ⋅y - t  + 2⋅t - y  + y"
      ]
     },
     "execution_count": 362,
     "metadata": {},
     "output_type": "execute_result"
    }
   ],
   "source": [
    "expr = -y**2+y+2*y*t**2+2*t-t**2-t**4\n",
    "expr"
   ]
  },
  {
   "cell_type": "code",
   "execution_count": 368,
   "metadata": {
    "collapsed": false
   },
   "outputs": [
    {
     "data": {
      "image/png": "[encoded data removed]",
      "text/latex": [
       "$$2 t - 2$$"
      ],
      "text/plain": [
       "2⋅t - 2"
      ]
     },
     "execution_count": 368,
     "metadata": {},
     "output_type": "execute_result"
    }
   ],
   "source": [
    "simplify(expr.subs({y: t**2+2}))"
   ]
  },
  {
   "cell_type": "code",
   "execution_count": 369,
   "metadata": {
    "collapsed": false
   },
   "outputs": [
    {
     "data": {
      "image/png": "[encoded data removed]",
      "text/latex": [
       "$$\\frac{1.0}{t^{2}} e^{- \\frac{1.0}{t}}$$"
      ],
      "text/plain": [
       "     -1.0 \n",
       "     ─────\n",
       "       t  \n",
       "1.0⋅ℯ     \n",
       "──────────\n",
       "     2    \n",
       "    t     "
      ]
     },
     "execution_count": 369,
     "metadata": {},
     "output_type": "execute_result"
    }
   ],
   "source": [
    "diff(exp(-1./t))"
   ]
  },
  {
   "cell_type": "code",
   "execution_count": 372,
   "metadata": {
    "collapsed": false
   },
   "outputs": [
    {
     "data": {
      "text/plain": [
       "[<matplotlib.lines.Line2D at 0x117b636d0>]"
      ]
     },
     "execution_count": 372,
     "metadata": {},
     "output_type": "execute_result"
    },
    {
     "data": {
      "image/png": "[encoded data removed]",
      "text/plain": [
       "<matplotlib.figure.Figure at 0x117b63110>"
      ]
     },
     "metadata": {},
     "output_type": "display_data"
    }
   ],
   "source": [
    "x = np.linspace(-1,4,100)\n",
    "plt.plot(x, x*(x-1)*(x-3))\n",
    "plt.plot(x, np.zeros(x.shape))"
   ]
  },
  {
   "cell_type": "code",
   "execution_count": null,
   "metadata": {
    "collapsed": true
   },
   "outputs": [],
   "source": []
  }
 ],
 "metadata": {
  "kernelspec": {
   "display_name": "Python 2",
   "language": "python",
   "name": "python2"
  },
  "language_info": {
   "codemirror_mode": {
    "name": "ipython",
    "version": 2
   },
   "file_extension": ".py",
   "mimetype": "text/x-python",
   "name": "python",
   "nbconvert_exporter": "python",
   "pygments_lexer": "ipython2",
   "version": "2.7.10"
  },
  "toc": {
   "toc_cell": false,
   "toc_number_sections": true,
   "toc_section_display": "block",
   "toc_threshold": 6,
   "toc_window_display": false
  },
  "toc_position": {
   "height": "239px",
   "left": "1016.02px",
   "right": "20px",
   "top": "111px",
   "width": "306px"
  }
 },
 "nbformat": 4,
 "nbformat_minor": 0
}
