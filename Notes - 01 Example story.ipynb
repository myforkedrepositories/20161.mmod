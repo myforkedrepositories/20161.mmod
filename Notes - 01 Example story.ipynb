{
 "cells": [
  {
   "cell_type": "code",
   "execution_count": null,
   "metadata": {
    "collapsed": false,
    "slideshow": {
     "slide_type": "skip"
    }
   },
   "outputs": [],
   "source": [
    "import pandas as pd\n",
    "import matplotlib.pyplot as plt\n",
    "import numpy as np\n",
    "import bokeh\n",
    "from bokeh.plotting import figure, gridplot, output_file, show, output_notebook\n",
    "from bokeh.models import ColumnDataSource, HoverTool, CustomJS, BoxZoomTool, BoxSelectTool, ResetTool\n",
    "output_notebook(resources=bokeh.resources.INLINE)\n",
    "%matplotlib inline"
   ]
  },
  {
   "cell_type": "markdown",
   "metadata": {
    "slideshow": {
     "slide_type": "slide"
    }
   },
   "source": [
    "# Data story example"
   ]
  },
  {
   "cell_type": "code",
   "execution_count": null,
   "metadata": {
    "collapsed": false,
    "slideshow": {
     "slide_type": "slide"
    }
   },
   "outputs": [],
   "source": [
    "d = pd.read_csv(\"data/mbta-locations.csv\")\n",
    "d.columns=[u'message_id', u'service_date_id', u'vehicle', u'timestamp_gmt',\n",
    "       u'latitude', u'longitude', u'earliness_in_minutes',\n",
    "       u'odometer_in_miles']\n",
    "d.shape"
   ]
  },
  {
   "cell_type": "code",
   "execution_count": null,
   "metadata": {
    "collapsed": false,
    "slideshow": {
     "slide_type": "subslide"
    }
   },
   "outputs": [],
   "source": [
    "d.head()"
   ]
  },
  {
   "cell_type": "code",
   "execution_count": null,
   "metadata": {
    "collapsed": false,
    "slideshow": {
     "slide_type": "slide"
    }
   },
   "outputs": [],
   "source": [
    "vehicles = np.unique(d[\"vehicle\"])\n",
    "len(vehicles), vehicles[:100] "
   ]
  },
  {
   "cell_type": "code",
   "execution_count": null,
   "metadata": {
    "collapsed": false,
    "slideshow": {
     "slide_type": "slide"
    }
   },
   "outputs": [],
   "source": [
    "plt.scatter(d[\"latitude\"], d[\"longitude\"], s=1, alpha=0.2)"
   ]
  },
  {
   "cell_type": "code",
   "execution_count": null,
   "metadata": {
    "collapsed": false,
    "slideshow": {
     "slide_type": "slide"
    }
   },
   "outputs": [],
   "source": [
    "d=d[d[\"latitude\"]>40]\n",
    "d.shape"
   ]
  },
  {
   "cell_type": "code",
   "execution_count": null,
   "metadata": {
    "collapsed": false,
    "slideshow": {
     "slide_type": "subslide"
    }
   },
   "outputs": [],
   "source": [
    "plt.scatter(d[\"latitude\"], d[\"longitude\"], s=1, alpha=0.2)"
   ]
  },
  {
   "cell_type": "code",
   "execution_count": null,
   "metadata": {
    "collapsed": false,
    "slideshow": {
     "slide_type": "slide"
    }
   },
   "outputs": [],
   "source": [
    "v = d[d[\"vehicle\"]==322]\n",
    "print v.shape\n",
    "plt.figure(figsize=(15,10))\n",
    "plt.scatter(v[\"latitude\"], v[\"longitude\"],s=10, color=\"red\", alpha=0.5)\n",
    "plt.scatter(d[\"latitude\"], d[\"longitude\"], s=1, color=\"gray\", alpha=0.2)"
   ]
  },
  {
   "cell_type": "code",
   "execution_count": null,
   "metadata": {
    "collapsed": false
   },
   "outputs": [],
   "source": [
    "d_lowlo = d[d[\"longitude\"]<-71.4]\n",
    "print d_lowlo.shape\n",
    "plt.scatter(d_lowlo[\"latitude\"], d_lowlo[\"longitude\"],s=10,alpha=0.5)"
   ]
  },
  {
   "cell_type": "code",
   "execution_count": null,
   "metadata": {
    "collapsed": false
   },
   "outputs": [],
   "source": [
    "np.unique(d_lowlo[\"vehicle\"])"
   ]
  },
  {
   "cell_type": "markdown",
   "metadata": {},
   "source": [
    "plot routes for some of the above vehicles\n",
    "\n",
    "- weird single point at 42.15, -71.5"
   ]
  },
  {
   "cell_type": "code",
   "execution_count": null,
   "metadata": {
    "collapsed": false
   },
   "outputs": [],
   "source": [
    "v = d[d[\"vehicle\"]==545]\n",
    "print v.shape\n",
    "plt.scatter(v[\"latitude\"], v[\"longitude\"],s=2,alpha=0.5)"
   ]
  },
  {
   "cell_type": "markdown",
   "metadata": {},
   "source": [
    "### Undersample to show some points\n",
    "\n",
    "- try with 10k and 5k points"
   ]
  },
  {
   "cell_type": "code",
   "execution_count": null,
   "metadata": {
    "collapsed": false
   },
   "outputs": [],
   "source": [
    "p = np.random.permutation(len(d))[:5000]"
   ]
  },
  {
   "cell_type": "code",
   "execution_count": null,
   "metadata": {
    "collapsed": false
   },
   "outputs": [],
   "source": [
    "plt.figure(figsize=(15,10))\n",
    "plt.scatter(d[\"latitude\"].iloc[p], d[\"longitude\"].iloc[p], s=1, alpha=0.2)"
   ]
  },
  {
   "cell_type": "code",
   "execution_count": null,
   "metadata": {
    "collapsed": false,
    "scrolled": false
   },
   "outputs": [],
   "source": [
    "s1 = figure(width=650, plot_height=450, title=\"all mbta lines\")\n",
    "\n",
    "s1.circle(d[\"latitude\"].iloc[p], d[\"longitude\"].iloc[p], size=1, color=\"navy\", alpha=0.5)\n",
    "show(s1)"
   ]
  },
  {
   "cell_type": "code",
   "execution_count": null,
   "metadata": {
    "collapsed": true
   },
   "outputs": [],
   "source": [
    "di = d.iloc[p]\n"
   ]
  },
  {
   "cell_type": "code",
   "execution_count": null,
   "metadata": {
    "collapsed": false
   },
   "outputs": [],
   "source": [
    "dp = d.iloc[p][d[\"earliness_in_minutes\"]>=0]\n",
    "dn = d.iloc[p][d[\"earliness_in_minutes\"]<0]\n",
    "\n",
    "source_p = ColumnDataSource(\n",
    "        data=dict(\n",
    "            x=dp[\"latitude\"],\n",
    "            y=dp[\"longitude\"],\n",
    "            em=dp[\"earliness_in_minutes\"]\n",
    "        )\n",
    "    )\n",
    "\n",
    "source_n = ColumnDataSource(\n",
    "        data=dict(\n",
    "            x=dn[\"latitude\"],\n",
    "            y=dn[\"longitude\"],\n",
    "            em=dn[\"earliness_in_minutes\"]\n",
    "        )\n",
    "    )\n",
    "\n",
    "h = HoverTool(        tooltips=[\n",
    "            (\"index\", \"$index\"),\n",
    "            (\"(lat, lon)\", \"($x, $y)\"),\n",
    "            (\"earliness\", \"@em\")\n",
    "        \n",
    "        ])\n",
    "s1 = figure(width=750, plot_height=450, title=\"pos and neg earliness\", \n",
    "            tools=[h, ResetTool(), BoxZoomTool()])\n",
    "s1.circle('x','y', source=source_p, size=3, color=\"navy\", alpha=.1)\n",
    "\n",
    "s1.circle('x', 'y', source=source_n, size=3, color=\"red\", alpha=.1)\n",
    "\n",
    "show(s1)"
   ]
  },
  {
   "cell_type": "code",
   "execution_count": null,
   "metadata": {
    "collapsed": false
   },
   "outputs": [],
   "source": [
    "di = d.iloc[p]\n",
    "source = ColumnDataSource(data=dict(x=di[\"latitude\"], y=di[\"longitude\"]))\n",
    "import bokeh \n",
    "def update(earliness_min):\n",
    "    dii = di[di[\"earliness_in_minutes\"]>=earliness_min]\n",
    "    print \"min\", earliness_min, \"nb of datapoints\", len(dii)\n",
    "    source.data['x'] = dii[\"latitude\"]\n",
    "    source.data['y'] = dii[\"longitude\"]\n",
    "    bokeh.io.push_notebook()\n",
    "    \n",
    "s1 = figure(width=750, plot_height=450, title=\"filter by earliness\")\n",
    "s1.circle('x','y', source=source, size=1, color=\"navy\", alpha=.1)\n",
    "\n",
    "show(s1)"
   ]
  },
  {
   "cell_type": "code",
   "execution_count": null,
   "metadata": {
    "collapsed": false
   },
   "outputs": [],
   "source": [
    "from IPython.html.widgets import interact\n",
    "interact(update, earliness_min=(np.min(d[\"earliness_in_minutes\"]), np.max(d[\"earliness_in_minutes\"])))"
   ]
  },
  {
   "cell_type": "code",
   "execution_count": null,
   "metadata": {
    "collapsed": true
   },
   "outputs": [],
   "source": []
  }
 ],
 "metadata": {
  "kernelspec": {
   "display_name": "Python 2",
   "language": "python",
   "name": "python2"
  },
  "language_info": {
   "codemirror_mode": {
    "name": "ipython",
    "version": 2
   },
   "file_extension": ".py",
   "mimetype": "text/x-python",
   "name": "python",
   "nbconvert_exporter": "python",
   "pygments_lexer": "ipython2",
   "version": "2.7.11"
  }
 },
 "nbformat": 4,
 "nbformat_minor": 0
}
